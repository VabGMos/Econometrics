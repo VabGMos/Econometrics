{
 "cells": [
  {
   "cell_type": "code",
   "execution_count": 1,
   "metadata": {},
   "outputs": [],
   "source": [
    "import numpy as np\n",
    "import pandas as pd "
   ]
  },
  {
   "cell_type": "code",
   "execution_count": 2,
   "metadata": {},
   "outputs": [
    {
     "data": {
      "text/html": [
       "<div>\n",
       "<style scoped>\n",
       "    .dataframe tbody tr th:only-of-type {\n",
       "        vertical-align: middle;\n",
       "    }\n",
       "\n",
       "    .dataframe tbody tr th {\n",
       "        vertical-align: top;\n",
       "    }\n",
       "\n",
       "    .dataframe thead th {\n",
       "        text-align: right;\n",
       "    }\n",
       "</style>\n",
       "<table border=\"1\" class=\"dataframe\">\n",
       "  <thead>\n",
       "    <tr style=\"text-align: right;\">\n",
       "      <th></th>\n",
       "      <th>age</th>\n",
       "      <th>type_employer</th>\n",
       "      <th>fnlwgt</th>\n",
       "      <th>education</th>\n",
       "      <th>education_num</th>\n",
       "      <th>marital</th>\n",
       "      <th>occupation</th>\n",
       "      <th>relationship</th>\n",
       "      <th>race</th>\n",
       "      <th>sex</th>\n",
       "      <th>capital_gain</th>\n",
       "      <th>capital_loss</th>\n",
       "      <th>hr_per_week</th>\n",
       "      <th>country</th>\n",
       "      <th>income</th>\n",
       "    </tr>\n",
       "  </thead>\n",
       "  <tbody>\n",
       "    <tr>\n",
       "      <th>0</th>\n",
       "      <td>39</td>\n",
       "      <td>State-gov</td>\n",
       "      <td>77516</td>\n",
       "      <td>Bachelors</td>\n",
       "      <td>13</td>\n",
       "      <td>Never-married</td>\n",
       "      <td>Adm-clerical</td>\n",
       "      <td>Not-in-family</td>\n",
       "      <td>White</td>\n",
       "      <td>Male</td>\n",
       "      <td>2174</td>\n",
       "      <td>0</td>\n",
       "      <td>40</td>\n",
       "      <td>United-States</td>\n",
       "      <td>&lt;=50K</td>\n",
       "    </tr>\n",
       "    <tr>\n",
       "      <th>1</th>\n",
       "      <td>50</td>\n",
       "      <td>Self-emp-not-inc</td>\n",
       "      <td>83311</td>\n",
       "      <td>Bachelors</td>\n",
       "      <td>13</td>\n",
       "      <td>Married-civ-spouse</td>\n",
       "      <td>Exec-managerial</td>\n",
       "      <td>Husband</td>\n",
       "      <td>White</td>\n",
       "      <td>Male</td>\n",
       "      <td>0</td>\n",
       "      <td>0</td>\n",
       "      <td>13</td>\n",
       "      <td>United-States</td>\n",
       "      <td>&lt;=50K</td>\n",
       "    </tr>\n",
       "    <tr>\n",
       "      <th>2</th>\n",
       "      <td>38</td>\n",
       "      <td>Private</td>\n",
       "      <td>215646</td>\n",
       "      <td>HS-grad</td>\n",
       "      <td>9</td>\n",
       "      <td>Divorced</td>\n",
       "      <td>Handlers-cleaners</td>\n",
       "      <td>Not-in-family</td>\n",
       "      <td>White</td>\n",
       "      <td>Male</td>\n",
       "      <td>0</td>\n",
       "      <td>0</td>\n",
       "      <td>40</td>\n",
       "      <td>United-States</td>\n",
       "      <td>&lt;=50K</td>\n",
       "    </tr>\n",
       "    <tr>\n",
       "      <th>3</th>\n",
       "      <td>53</td>\n",
       "      <td>Private</td>\n",
       "      <td>234721</td>\n",
       "      <td>11th</td>\n",
       "      <td>7</td>\n",
       "      <td>Married-civ-spouse</td>\n",
       "      <td>Handlers-cleaners</td>\n",
       "      <td>Husband</td>\n",
       "      <td>Black</td>\n",
       "      <td>Male</td>\n",
       "      <td>0</td>\n",
       "      <td>0</td>\n",
       "      <td>40</td>\n",
       "      <td>United-States</td>\n",
       "      <td>&lt;=50K</td>\n",
       "    </tr>\n",
       "    <tr>\n",
       "      <th>4</th>\n",
       "      <td>28</td>\n",
       "      <td>Private</td>\n",
       "      <td>338409</td>\n",
       "      <td>Bachelors</td>\n",
       "      <td>13</td>\n",
       "      <td>Married-civ-spouse</td>\n",
       "      <td>Prof-specialty</td>\n",
       "      <td>Wife</td>\n",
       "      <td>Black</td>\n",
       "      <td>Female</td>\n",
       "      <td>0</td>\n",
       "      <td>0</td>\n",
       "      <td>40</td>\n",
       "      <td>Cuba</td>\n",
       "      <td>&lt;=50K</td>\n",
       "    </tr>\n",
       "  </tbody>\n",
       "</table>\n",
       "</div>"
      ],
      "text/plain": [
       "   age     type_employer  fnlwgt  education  education_num  \\\n",
       "0   39         State-gov   77516  Bachelors             13   \n",
       "1   50  Self-emp-not-inc   83311  Bachelors             13   \n",
       "2   38           Private  215646    HS-grad              9   \n",
       "3   53           Private  234721       11th              7   \n",
       "4   28           Private  338409  Bachelors             13   \n",
       "\n",
       "              marital         occupation   relationship   race     sex  \\\n",
       "0       Never-married       Adm-clerical  Not-in-family  White    Male   \n",
       "1  Married-civ-spouse    Exec-managerial        Husband  White    Male   \n",
       "2            Divorced  Handlers-cleaners  Not-in-family  White    Male   \n",
       "3  Married-civ-spouse  Handlers-cleaners        Husband  Black    Male   \n",
       "4  Married-civ-spouse     Prof-specialty           Wife  Black  Female   \n",
       "\n",
       "   capital_gain  capital_loss  hr_per_week        country income  \n",
       "0          2174             0           40  United-States  <=50K  \n",
       "1             0             0           13  United-States  <=50K  \n",
       "2             0             0           40  United-States  <=50K  \n",
       "3             0             0           40  United-States  <=50K  \n",
       "4             0             0           40           Cuba  <=50K  "
      ]
     },
     "execution_count": 2,
     "metadata": {},
     "output_type": "execute_result"
    }
   ],
   "source": [
    "#reading csv file into dataframe\n",
    "adult_salary = pd.read_csv(\"adult_salary.csv\").iloc[:, 1:]\n",
    "adult_salary.head()"
   ]
  },
  {
   "cell_type": "code",
   "execution_count": 3,
   "metadata": {},
   "outputs": [
    {
     "name": "stdout",
     "output_type": "stream",
     "text": [
      "<class 'pandas.core.frame.DataFrame'>\n",
      "RangeIndex: 32561 entries, 0 to 32560\n",
      "Data columns (total 15 columns):\n",
      " #   Column         Non-Null Count  Dtype \n",
      "---  ------         --------------  ----- \n",
      " 0   age            32561 non-null  int64 \n",
      " 1   type_employer  32561 non-null  object\n",
      " 2   fnlwgt         32561 non-null  int64 \n",
      " 3   education      32561 non-null  object\n",
      " 4   education_num  32561 non-null  int64 \n",
      " 5   marital        32561 non-null  object\n",
      " 6   occupation     32561 non-null  object\n",
      " 7   relationship   32561 non-null  object\n",
      " 8   race           32561 non-null  object\n",
      " 9   sex            32561 non-null  object\n",
      " 10  capital_gain   32561 non-null  int64 \n",
      " 11  capital_loss   32561 non-null  int64 \n",
      " 12  hr_per_week    32561 non-null  int64 \n",
      " 13  country        32561 non-null  object\n",
      " 14  income         32561 non-null  object\n",
      "dtypes: int64(6), object(9)\n",
      "memory usage: 3.7+ MB\n"
     ]
    }
   ],
   "source": [
    "#checking if null values exist\n",
    "adult_salary.info()\n",
    "#looks like no null values, probably other missing data"
   ]
  },
  {
   "cell_type": "code",
   "execution_count": 4,
   "metadata": {},
   "outputs": [
    {
     "data": {
      "text/plain": [
       "{'?',\n",
       " 'Federal-gov',\n",
       " 'Local-gov',\n",
       " 'Never-worked',\n",
       " 'Private',\n",
       " 'Self-emp-inc',\n",
       " 'Self-emp-not-inc',\n",
       " 'State-gov',\n",
       " 'Without-pay'}"
      ]
     },
     "execution_count": 4,
     "metadata": {},
     "output_type": "execute_result"
    }
   ],
   "source": [
    "#checking unique values for all text based columns to see if any missing data\n",
    "set(adult_salary[\"type_employer\"])\n",
    "#? indicating unknown employers"
   ]
  },
  {
   "cell_type": "code",
   "execution_count": 5,
   "metadata": {},
   "outputs": [],
   "source": [
    "#lets remove any data where employer type is unknown\n",
    "adult_salary = adult_salary[adult_salary[\"type_employer\"] != \"?\"]"
   ]
  },
  {
   "cell_type": "code",
   "execution_count": 6,
   "metadata": {},
   "outputs": [
    {
     "data": {
      "text/plain": [
       "{'10th',\n",
       " '11th',\n",
       " '12th',\n",
       " '1st-4th',\n",
       " '5th-6th',\n",
       " '7th-8th',\n",
       " '9th',\n",
       " 'Assoc-acdm',\n",
       " 'Assoc-voc',\n",
       " 'Bachelors',\n",
       " 'Doctorate',\n",
       " 'HS-grad',\n",
       " 'Masters',\n",
       " 'Preschool',\n",
       " 'Prof-school',\n",
       " 'Some-college'}"
      ]
     },
     "execution_count": 6,
     "metadata": {},
     "output_type": "execute_result"
    }
   ],
   "source": [
    "set(adult_salary[\"education\"])\n",
    "#looks like nothing missing in education"
   ]
  },
  {
   "cell_type": "code",
   "execution_count": 7,
   "metadata": {},
   "outputs": [
    {
     "data": {
      "text/plain": [
       "{'Divorced',\n",
       " 'Married-AF-spouse',\n",
       " 'Married-civ-spouse',\n",
       " 'Married-spouse-absent',\n",
       " 'Never-married',\n",
       " 'Separated',\n",
       " 'Widowed'}"
      ]
     },
     "execution_count": 7,
     "metadata": {},
     "output_type": "execute_result"
    }
   ],
   "source": [
    "set(adult_salary[\"marital\"])\n",
    "#nothing missing in marital status"
   ]
  },
  {
   "cell_type": "code",
   "execution_count": 8,
   "metadata": {},
   "outputs": [
    {
     "data": {
      "text/plain": [
       "{'?',\n",
       " 'Adm-clerical',\n",
       " 'Armed-Forces',\n",
       " 'Craft-repair',\n",
       " 'Exec-managerial',\n",
       " 'Farming-fishing',\n",
       " 'Handlers-cleaners',\n",
       " 'Machine-op-inspct',\n",
       " 'Other-service',\n",
       " 'Priv-house-serv',\n",
       " 'Prof-specialty',\n",
       " 'Protective-serv',\n",
       " 'Sales',\n",
       " 'Tech-support',\n",
       " 'Transport-moving'}"
      ]
     },
     "execution_count": 8,
     "metadata": {},
     "output_type": "execute_result"
    }
   ],
   "source": [
    "set(adult_salary[\"occupation\"])\n",
    "#looks like some missing occupation details, should definitely drop any data where its a ? as occupation is \n",
    "#probably a very important factor in determining income"
   ]
  },
  {
   "cell_type": "code",
   "execution_count": 9,
   "metadata": {},
   "outputs": [],
   "source": [
    "adult_salary = adult_salary[adult_salary[\"occupation\"] != \"?\"]"
   ]
  },
  {
   "cell_type": "code",
   "execution_count": 10,
   "metadata": {},
   "outputs": [
    {
     "data": {
      "text/plain": [
       "{'Adm-clerical',\n",
       " 'Armed-Forces',\n",
       " 'Craft-repair',\n",
       " 'Exec-managerial',\n",
       " 'Farming-fishing',\n",
       " 'Handlers-cleaners',\n",
       " 'Machine-op-inspct',\n",
       " 'Other-service',\n",
       " 'Priv-house-serv',\n",
       " 'Prof-specialty',\n",
       " 'Protective-serv',\n",
       " 'Sales',\n",
       " 'Tech-support',\n",
       " 'Transport-moving'}"
      ]
     },
     "execution_count": 10,
     "metadata": {},
     "output_type": "execute_result"
    }
   ],
   "source": [
    "set(adult_salary[\"occupation\"])\n",
    "#relationship column is all set, probably not much of a factor so doesn't matter either way"
   ]
  },
  {
   "cell_type": "code",
   "execution_count": 11,
   "metadata": {},
   "outputs": [
    {
     "data": {
      "text/plain": [
       "{'Amer-Indian-Eskimo', 'Asian-Pac-Islander', 'Black', 'Other', 'White'}"
      ]
     },
     "execution_count": 11,
     "metadata": {},
     "output_type": "execute_result"
    }
   ],
   "source": [
    "set(adult_salary[\"race\"])\n",
    "#nothing missing here, 'other' might impact model, potentially making this column irrelevant if not a lot of people\n",
    "#report race, we will check correlations later, and drop if needed"
   ]
  },
  {
   "cell_type": "code",
   "execution_count": 12,
   "metadata": {},
   "outputs": [
    {
     "data": {
      "text/plain": [
       "{'Female', 'Male'}"
      ]
     },
     "execution_count": 12,
     "metadata": {},
     "output_type": "execute_result"
    }
   ],
   "source": [
    "set(adult_salary[\"sex\"])\n",
    "#all set"
   ]
  },
  {
   "cell_type": "code",
   "execution_count": 13,
   "metadata": {},
   "outputs": [
    {
     "data": {
      "text/plain": [
       "{'?',\n",
       " 'Cambodia',\n",
       " 'Canada',\n",
       " 'China',\n",
       " 'Columbia',\n",
       " 'Cuba',\n",
       " 'Dominican-Republic',\n",
       " 'Ecuador',\n",
       " 'El-Salvador',\n",
       " 'England',\n",
       " 'France',\n",
       " 'Germany',\n",
       " 'Greece',\n",
       " 'Guatemala',\n",
       " 'Haiti',\n",
       " 'Holand-Netherlands',\n",
       " 'Honduras',\n",
       " 'Hong',\n",
       " 'Hungary',\n",
       " 'India',\n",
       " 'Iran',\n",
       " 'Ireland',\n",
       " 'Italy',\n",
       " 'Jamaica',\n",
       " 'Japan',\n",
       " 'Laos',\n",
       " 'Mexico',\n",
       " 'Nicaragua',\n",
       " 'Outlying-US(Guam-USVI-etc)',\n",
       " 'Peru',\n",
       " 'Philippines',\n",
       " 'Poland',\n",
       " 'Portugal',\n",
       " 'Puerto-Rico',\n",
       " 'Scotland',\n",
       " 'South',\n",
       " 'Taiwan',\n",
       " 'Thailand',\n",
       " 'Trinadad&Tobago',\n",
       " 'United-States',\n",
       " 'Vietnam',\n",
       " 'Yugoslavia'}"
      ]
     },
     "execution_count": 13,
     "metadata": {},
     "output_type": "execute_result"
    }
   ],
   "source": [
    "set(adult_salary[\"country\"])\n",
    "#? inidcating misisng country, will drop these datapoints"
   ]
  },
  {
   "cell_type": "code",
   "execution_count": 14,
   "metadata": {},
   "outputs": [],
   "source": [
    "adult_salary = adult_salary[adult_salary[\"country\"] != \"?\"]"
   ]
  },
  {
   "cell_type": "code",
   "execution_count": 15,
   "metadata": {},
   "outputs": [
    {
     "data": {
      "text/plain": [
       "{'<=50K', '>50K'}"
      ]
     },
     "execution_count": 15,
     "metadata": {},
     "output_type": "execute_result"
    }
   ],
   "source": [
    "#lets check if anything missing in target variable\n",
    "set(adult_salary[\"income\"])"
   ]
  },
  {
   "cell_type": "code",
   "execution_count": 16,
   "metadata": {},
   "outputs": [
    {
     "name": "stdout",
     "output_type": "stream",
     "text": [
      "False\n",
      "False\n",
      "False\n",
      "False\n"
     ]
    }
   ],
   "source": [
    "#categorical data seems normal, lets hceck for negative values in capital gains/losses, education, hrs per week and\n",
    "#education num as these numbers should not be negative\n",
    "print(min(adult_salary[\"education_num\"]) < 0)\n",
    "print(min(adult_salary[\"capital_gain\"]) < 0)\n",
    "print(min(adult_salary[\"capital_loss\"]) < 0)\n",
    "print(min(adult_salary[\"hr_per_week\"]) < 0)\n",
    "#all false so no negative values, assuming now that data is clean"
   ]
  },
  {
   "cell_type": "code",
   "execution_count": 152,
   "metadata": {},
   "outputs": [
    {
     "data": {
      "text/plain": [
       "<matplotlib.axes._subplots.AxesSubplot at 0x7fdaf3da52e8>"
      ]
     },
     "execution_count": 152,
     "metadata": {},
     "output_type": "execute_result"
    },
    {
     "data": {
      "image/png": "[encoded data removed]",
      "text/plain": [
       "<Figure size 432x288 with 2 Axes>"
      ]
     },
     "metadata": {},
     "output_type": "display_data"
    }
   ],
   "source": [
    "import seaborn as sns\n",
    "corr = adult_salary.corr()\n",
    "sns.heatmap(corr, \n",
    "        xticklabels=corr.columns,\n",
    "        yticklabels=corr.columns)\n",
    "#heatmap of non categorigcal features, nothing highly correlated to each other, so we should initially use all features \n",
    "#for training, and then eliminate some"
   ]
  },
  {
   "cell_type": "code",
   "execution_count": 232,
   "metadata": {},
   "outputs": [],
   "source": [
    "#lets split into features and target\n",
    "features, target = adult_salary.iloc[:, :14], adult_salary[\"income\"]"
   ]
  },
  {
   "cell_type": "code",
   "execution_count": 233,
   "metadata": {},
   "outputs": [],
   "source": [
    "#lets set target variable to 0 if below or equal 50K and 1 if above 50K\n",
    "target = target.astype('category').cat.codes"
   ]
  },
  {
   "cell_type": "code",
   "execution_count": 236,
   "metadata": {},
   "outputs": [
    {
     "data": {
      "text/plain": [
       "Index(['age', 'type_employer', 'fnlwgt', 'education', 'education_num',\n",
       "       'marital', 'occupation', 'relationship', 'race', 'sex', 'capital_gain',\n",
       "       'capital_loss', 'hr_per_week', 'country'],\n",
       "      dtype='object')"
      ]
     },
     "execution_count": 236,
     "metadata": {},
     "output_type": "execute_result"
    }
   ],
   "source": [
    "features.columns"
   ]
  },
  {
   "cell_type": "code",
   "execution_count": 237,
   "metadata": {},
   "outputs": [
    {
     "data": {
      "image/png": "[encoded data removed]",
      "text/plain": [
       "<Figure size 576x396 with 1 Axes>"
      ]
     },
     "metadata": {},
     "output_type": "display_data"
    },
    {
     "data": {
      "text/plain": [
       "<matplotlib.axes._subplots.AxesSubplot at 0x7fdb2b9a95c0>"
      ]
     },
     "execution_count": 237,
     "metadata": {},
     "output_type": "execute_result"
    }
   ],
   "source": [
    "#encoded categorical features for the purpose of this visualization\n",
    "#feature correlation\n",
    "from yellowbrick.target import FeatureCorrelation\n",
    "encoded_features = features.copy()\n",
    "encoded_features[\"type_employer\"] = encoded_features[\"type_employer\"].astype('category').cat.codes\n",
    "encoded_features[\"education\"] = encoded_features[\"education\"].astype('category').cat.codes\n",
    "encoded_features[\"marital\"] = encoded_features[\"marital\"].astype('category').cat.codes\n",
    "encoded_features[\"occupation\"] = encoded_features[\"occupation\"].astype('category').cat.codes\n",
    "encoded_features[\"relationship\"] = encoded_features[\"relationship\"].astype('category').cat.codes\n",
    "encoded_features[\"race\"] = encoded_features[\"race\"].astype('category').cat.codes\n",
    "encoded_features[\"sex\"] = encoded_features[\"sex\"].astype('category').cat.codes\n",
    "encoded_features[\"country\"] = encoded_features[\"country\"].astype('category').cat.codes\n",
    "\n",
    "\n",
    "visualizer = FeatureCorrelation(labels=encoded_features.columns)\n",
    "visualizer.fit(encoded_features, target)       \n",
    "visualizer.show()           "
   ]
  },
  {
   "cell_type": "code",
   "execution_count": 238,
   "metadata": {},
   "outputs": [],
   "source": [
    "#cant judge categorical variables from above visualization, they will be split up below and explained later.\n",
    "#but age has a very high correlation to income as expected, could be correlated to how much further somoene is in\n",
    "#their career and could be them making more money at later stages.\n",
    "#education_num is the most highly correlated indicating people with more secialized education tend to find higher paying\n",
    "#jobs\n",
    "#hrs per week is also highly correlated, and is in line with the thinking that a lot of high paying jobs have long hours,\n",
    "#ex: being an Investment Banker at Goldman Sachs"
   ]
  },
  {
   "cell_type": "code",
   "execution_count": 19,
   "metadata": {},
   "outputs": [
    {
     "data": {
      "text/html": [
       "<div>\n",
       "<style scoped>\n",
       "    .dataframe tbody tr th:only-of-type {\n",
       "        vertical-align: middle;\n",
       "    }\n",
       "\n",
       "    .dataframe tbody tr th {\n",
       "        vertical-align: top;\n",
       "    }\n",
       "\n",
       "    .dataframe thead th {\n",
       "        text-align: right;\n",
       "    }\n",
       "</style>\n",
       "<table border=\"1\" class=\"dataframe\">\n",
       "  <thead>\n",
       "    <tr style=\"text-align: right;\">\n",
       "      <th></th>\n",
       "      <th>age</th>\n",
       "      <th>fnlwgt</th>\n",
       "      <th>education_num</th>\n",
       "      <th>capital_gain</th>\n",
       "      <th>capital_loss</th>\n",
       "      <th>hr_per_week</th>\n",
       "      <th>employer_Federal-gov</th>\n",
       "      <th>employer_Local-gov</th>\n",
       "      <th>employer_Private</th>\n",
       "      <th>employer_Self-emp-inc</th>\n",
       "      <th>...</th>\n",
       "      <th>country_Portugal</th>\n",
       "      <th>country_Puerto-Rico</th>\n",
       "      <th>country_Scotland</th>\n",
       "      <th>country_South</th>\n",
       "      <th>country_Taiwan</th>\n",
       "      <th>country_Thailand</th>\n",
       "      <th>country_Trinadad&amp;Tobago</th>\n",
       "      <th>country_United-States</th>\n",
       "      <th>country_Vietnam</th>\n",
       "      <th>country_Yugoslavia</th>\n",
       "    </tr>\n",
       "  </thead>\n",
       "  <tbody>\n",
       "    <tr>\n",
       "      <th>0</th>\n",
       "      <td>39</td>\n",
       "      <td>77516</td>\n",
       "      <td>13</td>\n",
       "      <td>2174</td>\n",
       "      <td>0</td>\n",
       "      <td>40</td>\n",
       "      <td>0</td>\n",
       "      <td>0</td>\n",
       "      <td>0</td>\n",
       "      <td>0</td>\n",
       "      <td>...</td>\n",
       "      <td>0</td>\n",
       "      <td>0</td>\n",
       "      <td>0</td>\n",
       "      <td>0</td>\n",
       "      <td>0</td>\n",
       "      <td>0</td>\n",
       "      <td>0</td>\n",
       "      <td>1</td>\n",
       "      <td>0</td>\n",
       "      <td>0</td>\n",
       "    </tr>\n",
       "    <tr>\n",
       "      <th>1</th>\n",
       "      <td>50</td>\n",
       "      <td>83311</td>\n",
       "      <td>13</td>\n",
       "      <td>0</td>\n",
       "      <td>0</td>\n",
       "      <td>13</td>\n",
       "      <td>0</td>\n",
       "      <td>0</td>\n",
       "      <td>0</td>\n",
       "      <td>0</td>\n",
       "      <td>...</td>\n",
       "      <td>0</td>\n",
       "      <td>0</td>\n",
       "      <td>0</td>\n",
       "      <td>0</td>\n",
       "      <td>0</td>\n",
       "      <td>0</td>\n",
       "      <td>0</td>\n",
       "      <td>1</td>\n",
       "      <td>0</td>\n",
       "      <td>0</td>\n",
       "    </tr>\n",
       "    <tr>\n",
       "      <th>2</th>\n",
       "      <td>38</td>\n",
       "      <td>215646</td>\n",
       "      <td>9</td>\n",
       "      <td>0</td>\n",
       "      <td>0</td>\n",
       "      <td>40</td>\n",
       "      <td>0</td>\n",
       "      <td>0</td>\n",
       "      <td>1</td>\n",
       "      <td>0</td>\n",
       "      <td>...</td>\n",
       "      <td>0</td>\n",
       "      <td>0</td>\n",
       "      <td>0</td>\n",
       "      <td>0</td>\n",
       "      <td>0</td>\n",
       "      <td>0</td>\n",
       "      <td>0</td>\n",
       "      <td>1</td>\n",
       "      <td>0</td>\n",
       "      <td>0</td>\n",
       "    </tr>\n",
       "    <tr>\n",
       "      <th>3</th>\n",
       "      <td>53</td>\n",
       "      <td>234721</td>\n",
       "      <td>7</td>\n",
       "      <td>0</td>\n",
       "      <td>0</td>\n",
       "      <td>40</td>\n",
       "      <td>0</td>\n",
       "      <td>0</td>\n",
       "      <td>1</td>\n",
       "      <td>0</td>\n",
       "      <td>...</td>\n",
       "      <td>0</td>\n",
       "      <td>0</td>\n",
       "      <td>0</td>\n",
       "      <td>0</td>\n",
       "      <td>0</td>\n",
       "      <td>0</td>\n",
       "      <td>0</td>\n",
       "      <td>1</td>\n",
       "      <td>0</td>\n",
       "      <td>0</td>\n",
       "    </tr>\n",
       "    <tr>\n",
       "      <th>4</th>\n",
       "      <td>28</td>\n",
       "      <td>338409</td>\n",
       "      <td>13</td>\n",
       "      <td>0</td>\n",
       "      <td>0</td>\n",
       "      <td>40</td>\n",
       "      <td>0</td>\n",
       "      <td>0</td>\n",
       "      <td>1</td>\n",
       "      <td>0</td>\n",
       "      <td>...</td>\n",
       "      <td>0</td>\n",
       "      <td>0</td>\n",
       "      <td>0</td>\n",
       "      <td>0</td>\n",
       "      <td>0</td>\n",
       "      <td>0</td>\n",
       "      <td>0</td>\n",
       "      <td>0</td>\n",
       "      <td>0</td>\n",
       "      <td>0</td>\n",
       "    </tr>\n",
       "  </tbody>\n",
       "</table>\n",
       "<p>5 rows × 104 columns</p>\n",
       "</div>"
      ],
      "text/plain": [
       "   age  fnlwgt  education_num  capital_gain  capital_loss  hr_per_week  \\\n",
       "0   39   77516             13          2174             0           40   \n",
       "1   50   83311             13             0             0           13   \n",
       "2   38  215646              9             0             0           40   \n",
       "3   53  234721              7             0             0           40   \n",
       "4   28  338409             13             0             0           40   \n",
       "\n",
       "   employer_Federal-gov  employer_Local-gov  employer_Private  \\\n",
       "0                     0                   0                 0   \n",
       "1                     0                   0                 0   \n",
       "2                     0                   0                 1   \n",
       "3                     0                   0                 1   \n",
       "4                     0                   0                 1   \n",
       "\n",
       "   employer_Self-emp-inc  ...  country_Portugal  country_Puerto-Rico  \\\n",
       "0                      0  ...                 0                    0   \n",
       "1                      0  ...                 0                    0   \n",
       "2                      0  ...                 0                    0   \n",
       "3                      0  ...                 0                    0   \n",
       "4                      0  ...                 0                    0   \n",
       "\n",
       "   country_Scotland  country_South  country_Taiwan  country_Thailand  \\\n",
       "0                 0              0               0                 0   \n",
       "1                 0              0               0                 0   \n",
       "2                 0              0               0                 0   \n",
       "3                 0              0               0                 0   \n",
       "4                 0              0               0                 0   \n",
       "\n",
       "   country_Trinadad&Tobago  country_United-States  country_Vietnam  \\\n",
       "0                        0                      1                0   \n",
       "1                        0                      1                0   \n",
       "2                        0                      1                0   \n",
       "3                        0                      1                0   \n",
       "4                        0                      0                0   \n",
       "\n",
       "   country_Yugoslavia  \n",
       "0                   0  \n",
       "1                   0  \n",
       "2                   0  \n",
       "3                   0  \n",
       "4                   0  \n",
       "\n",
       "[5 rows x 104 columns]"
      ]
     },
     "execution_count": 19,
     "metadata": {},
     "output_type": "execute_result"
    }
   ],
   "source": [
    "#lets also encode categorical features, may be a good idea to one hot encode, so every instance in a feature\n",
    "#has its own column with a true or false, so models don't inappropriately assign weights\n",
    "features = pd.get_dummies(features, columns=[\"type_employer\", \"education\", \"marital\", \"occupation\", \"relationship\"\n",
    "                                 , \"race\", \"sex\", \"country\"], prefix=[\"employer\", \"education\", \"marital\", \"occupation\", \"relationship\"\n",
    "                                 , \"race\", \"sex\", \"country\"])\n",
    "features.head()\n",
    "#to do"
   ]
  },
  {
   "cell_type": "code",
   "execution_count": 231,
   "metadata": {},
   "outputs": [
    {
     "data": {
      "image/png": "[encoded data removed]",
      "text/plain": [
       "<Figure size 576x396 with 1 Axes>"
      ]
     },
     "metadata": {},
     "output_type": "display_data"
    },
    {
     "data": {
      "text/plain": [
       "<matplotlib.axes._subplots.AxesSubplot at 0x7fdb2bbd9f60>"
      ]
     },
     "execution_count": 231,
     "metadata": {},
     "output_type": "execute_result"
    }
   ],
   "source": [
    "#tough to visualize a 100 features, let's do some principal omponen analysis to decompose the features into fewer \n",
    "#dimensions\n",
    "from yellowbrick.features import PCA\n",
    "\n",
    "classes = [\"<=50K\", \">50K\"]\n",
    "\n",
    "visualizer = PCA(scale=True, classes=classes)\n",
    "visualizer.fit_transform(features, target)\n",
    "visualizer.show()\n",
    "#based on this diagram, the decision boundary looks curved with an upwards hump,\n",
    "#Logistic Regression or polynomail regression with degree 2 could be good here"
   ]
  },
  {
   "cell_type": "code",
   "execution_count": 20,
   "metadata": {},
   "outputs": [],
   "source": [
    "#lets split data into training and testing\n",
    "from sklearn.model_selection import train_test_split\n",
    "\n",
    "X_train, X_test, y_train, y_test = train_test_split(features, target, test_size=0.25, random_state=42)"
   ]
  },
  {
   "cell_type": "code",
   "execution_count": 21,
   "metadata": {},
   "outputs": [],
   "source": [
    "#preprocessing featurs so loss functions can converge faster\n",
    "from sklearn.preprocessing import MinMaxScaler\n",
    "\n",
    "trainscaler = MinMaxScaler().fit(X_train)\n",
    "X_train = trainscaler.transform(X_train)\n",
    "testscaler = MinMaxScaler().fit(X_test)\n",
    "X_test = trainscaler.transform(X_test)"
   ]
  },
  {
   "cell_type": "code",
   "execution_count": 22,
   "metadata": {},
   "outputs": [
    {
     "name": "stderr",
     "output_type": "stream",
     "text": [
      "/Users/vaibhavguglani/anaconda3/lib/python3.6/site-packages/sklearn/linear_model/_logistic.py:765: ConvergenceWarning: lbfgs failed to converge (status=1):\n",
      "STOP: TOTAL NO. of ITERATIONS REACHED LIMIT.\n",
      "\n",
      "Increase the number of iterations (max_iter) or scale the data as shown in:\n",
      "    https://scikit-learn.org/stable/modules/preprocessing.html\n",
      "Please also refer to the documentation for alternative solver options:\n",
      "    https://scikit-learn.org/stable/modules/linear_model.html#logistic-regression\n",
      "  extra_warning_msg=_LOGISTIC_SOLVER_CONVERGENCE_MSG)\n"
     ]
    }
   ],
   "source": [
    "#only two discrete target variables, this is a classification problem\n",
    "from sklearn.linear_model import LogisticRegression\n",
    "\n",
    "#lets try logistic regression\n",
    "logreg = LogisticRegression().fit(X_train, y_train)"
   ]
  },
  {
   "cell_type": "code",
   "execution_count": 23,
   "metadata": {},
   "outputs": [
    {
     "data": {
      "text/plain": [
       "0.8525394510011934"
      ]
     },
     "execution_count": 23,
     "metadata": {},
     "output_type": "execute_result"
    }
   ],
   "source": [
    "#prediction and accuracy\n",
    "ypred = logreg.predict(X_test)\n",
    "\n",
    "from sklearn.metrics import accuracy_score\n",
    "accuracy_score(y_test, ypred)"
   ]
  },
  {
   "cell_type": "code",
   "execution_count": 186,
   "metadata": {},
   "outputs": [
    {
     "data": {
      "text/plain": [
       "0.8522742341864474"
      ]
     },
     "execution_count": 186,
     "metadata": {},
     "output_type": "execute_result"
    }
   ],
   "source": [
    "#failed to converge lets try using a different solver\n",
    "logreg = LogisticRegression(solver=\"liblinear\").fit(X_train, y_train)\n",
    "#prediction and accuracy\n",
    "ypred = logreg.predict(X_test)\n",
    "\n",
    "\n",
    "accuracy_score(y_test, ypred)\n",
    "#0.85% accuracy still\n",
    "#maybe using different penalty may improve performance"
   ]
  },
  {
   "cell_type": "code",
   "execution_count": 184,
   "metadata": {},
   "outputs": [
    {
     "data": {
      "text/plain": [
       "0.8553242275560271"
      ]
     },
     "execution_count": 184,
     "metadata": {},
     "output_type": "execute_result"
    }
   ],
   "source": [
    "logreg = LogisticRegression(penalty=\"l1\", solver=\"liblinear\").fit(X_train, y_train)\n",
    "#prediction and accuracy\n",
    "ypred = logreg.predict(X_test)\n",
    "\n",
    "\n",
    "accuracy_score(y_test, ypred)\n",
    "#slightly better with l1 penalty 0.855 vs 0.852, lasso is eliminating some variables it deems unecessary"
   ]
  },
  {
   "cell_type": "code",
   "execution_count": 26,
   "metadata": {},
   "outputs": [
    {
     "name": "stdout",
     "output_type": "stream",
     "text": [
      "22654\n",
      "7508\n"
     ]
    }
   ],
   "source": [
    "print(len(target[target==0]))\n",
    "print(len(target[target==1]))\n",
    "#high sccuracydoesnt necessarily mean its an amazing model, dataset is unbalanced with there being much more people\n",
    "#making less than or equal to 50K, lets check out ROC curve"
   ]
  },
  {
   "cell_type": "code",
   "execution_count": 180,
   "metadata": {},
   "outputs": [
    {
     "data": {
      "image/png": "[encoded data removed]",
      "text/plain": [
       "<Figure size 576x396 with 1 Axes>"
      ]
     },
     "metadata": {},
     "output_type": "display_data"
    },
    {
     "data": {
      "text/plain": [
       "<matplotlib.axes._subplots.AxesSubplot at 0x7fdb38aaa278>"
      ]
     },
     "execution_count": 180,
     "metadata": {},
     "output_type": "execute_result"
    }
   ],
   "source": [
    "from yellowbrick.classifier import ClassificationScoreVisualizer\n",
    "\n",
    "\n",
    "  \n",
    "from yellowbrick.classifier import ROCAUC\n",
    "\n",
    "\n",
    "\n",
    "visualizer = ROCAUC(logreg, classes=[\"<=50K\", \">50K\"])\n",
    "\n",
    "visualizer.fit(X_train, y_train)        \n",
    "visualizer.score(X_test, y_test)        \n",
    "visualizer.show()    \n",
    "\n",
    "#the high AUC scores suggest that the model is good at distinguishing between the two classes and the dataset imbalance \n",
    "#is not having a negative impact on it"
   ]
  },
  {
   "cell_type": "code",
   "execution_count": 182,
   "metadata": {},
   "outputs": [
    {
     "data": {
      "image/png": "[encoded data removed]",
      "text/plain": [
       "<Figure size 576x396 with 1 Axes>"
      ]
     },
     "metadata": {},
     "output_type": "display_data"
    },
    {
     "data": {
      "text/plain": [
       "<matplotlib.axes._subplots.AxesSubplot at 0x7fdb3edcb978>"
      ]
     },
     "execution_count": 182,
     "metadata": {},
     "output_type": "execute_result"
    }
   ],
   "source": [
    "from yellowbrick.classifier import ClassPredictionError\n",
    "\n",
    "visualizer = ClassPredictionError(\n",
    "    logreg, classes=[\"<=50K\", \">50K\"]\n",
    ")\n",
    "\n",
    "\n",
    "visualizer.fit(X_train, y_train)\n",
    "\n",
    "\n",
    "visualizer.score(X_test, y_test)\n",
    "\n",
    "\n",
    "visualizer.show()\n",
    "#based on this visualization, it seems that the model is better at classifying people making less than 50K\n",
    "#this is because a significantly larger number of people are making less than 50K and this is evident in the \n",
    "#class imbalance"
   ]
  },
  {
   "cell_type": "code",
   "execution_count": 27,
   "metadata": {},
   "outputs": [
    {
     "data": {
      "text/plain": [
       "0.3746103080112907"
      ]
     },
     "execution_count": 27,
     "metadata": {},
     "output_type": "execute_result"
    }
   ],
   "source": [
    "#we can also try a linear regression model that can output 1 or 0 depending on what the predicted value is closer to\n",
    "from sklearn.linear_model import LinearRegression\n",
    "\n",
    "linreg = LinearRegression().fit(X_train, y_train)\n",
    "ypred = linreg.predict(X_test)\n",
    "\n",
    "from sklearn.metrics import r2_score\n",
    "r2_score(y_test, ypred)\n",
    "\n",
    "#very low r2 score but maybe rounding to closest value could change results"
   ]
  },
  {
   "cell_type": "code",
   "execution_count": 28,
   "metadata": {},
   "outputs": [
    {
     "data": {
      "text/plain": [
       "0.8408699111523671"
      ]
     },
     "execution_count": 28,
     "metadata": {},
     "output_type": "execute_result"
    }
   ],
   "source": [
    "#rounds each result\n",
    "ypred_class = [i.round() for i in ypred]\n",
    "#now lets check accuracy\n",
    "accuracy_score(y_test, ypred_class)\n",
    "#pretty accurate but slightly worse than logistic regression, we can potentially try polynomial regression"
   ]
  },
  {
   "cell_type": "code",
   "execution_count": 187,
   "metadata": {},
   "outputs": [
    {
     "data": {
      "text/plain": [
       "0.8558546611855191"
      ]
     },
     "execution_count": 187,
     "metadata": {},
     "output_type": "execute_result"
    }
   ],
   "source": [
    "from sklearn.preprocessing import PolynomialFeatures\n",
    "#polynomial could overfit so lets use Ridge regularization\n",
    "from sklearn.linear_model import Ridge\n",
    "#lets try degree 2\n",
    "poly = PolynomialFeatures(2)\n",
    "degree2 = poly.fit_transform(X_train)\n",
    "\n",
    "degree2_reg = Ridge().fit(degree2, y_train)\n",
    "ypred = degree2_reg.predict(PolynomialFeatures(2).fit_transform(X_test))\n",
    "ypred_class =  [i.round() for i in ypred]\n",
    "accuracy_score(y_test, ypred_class)\n",
    "#looks like this is slightly better than Logistic by a very small amount"
   ]
  },
  {
   "cell_type": "code",
   "execution_count": 192,
   "metadata": {},
   "outputs": [
    {
     "data": {
      "image/png": "[encoded data removed]",
      "text/plain": [
       "<Figure size 576x396 with 1 Axes>"
      ]
     },
     "metadata": {},
     "output_type": "display_data"
    },
    {
     "data": {
      "text/plain": [
       "<matplotlib.axes._subplots.AxesSubplot at 0x7fdb38aea470>"
      ]
     },
     "execution_count": 192,
     "metadata": {},
     "output_type": "execute_result"
    }
   ],
   "source": [
    "from yellowbrick.regressor import PredictionError\n",
    "visualizer = PredictionError(degree2_reg, hist=False)\n",
    "visualizer.fit(degree2, y_train)\n",
    "visualizer.score(PolynomialFeatures(2).fit_transform(X_test), y_test)\n",
    "visualizer.show()\n",
    "#the prediction error here does not really mean much, and accuracy is the better metric to use, as this is\n",
    "#a classification problem, not a regression problem"
   ]
  },
  {
   "cell_type": "code",
   "execution_count": 33,
   "metadata": {},
   "outputs": [
    {
     "data": {
      "text/plain": [
       "0.8228351677496353"
      ]
     },
     "execution_count": 33,
     "metadata": {},
     "output_type": "execute_result"
    }
   ],
   "source": [
    "from sklearn.neighbors import KNeighborsClassifier\n",
    "\n",
    "knn = KNeighborsClassifier().fit(X_train, y_train)\n",
    "ypred = knn.predict(X_test)\n",
    "accuracy_score(y_test, ypred)\n",
    "#by default uses only 5 neighbors, b a good amount of neighbors to use is equal to square root of datapoints"
   ]
  },
  {
   "cell_type": "code",
   "execution_count": 193,
   "metadata": {},
   "outputs": [
    {
     "data": {
      "text/plain": [
       "0.8311894974141361"
      ]
     },
     "execution_count": 193,
     "metadata": {},
     "output_type": "execute_result"
    }
   ],
   "source": [
    "neighbors = int(np.sqrt(len(X_train)))\n",
    "\n",
    "knn = KNeighborsClassifier(n_neighbors=neighbors).fit(X_train, y_train)\n",
    "ypred = knn.predict(X_test)\n",
    "accuracy_score(y_test, ypred)"
   ]
  },
  {
   "cell_type": "code",
   "execution_count": 194,
   "metadata": {},
   "outputs": [
    {
     "data": {
      "text/plain": [
       "0.8158069221588649"
      ]
     },
     "execution_count": 194,
     "metadata": {},
     "output_type": "execute_result"
    }
   ],
   "source": [
    "#wont ty naive bayes as there is a mix of categorical and non categorical data, may not work here\n",
    "#can try decision tree, as better suited for such data\n",
    "from sklearn.tree import DecisionTreeClassifier\n",
    "\n",
    "dectree = DecisionTreeClassifier().fit(X_train, y_train)\n",
    "ypred = dectree.predict(X_test)\n",
    "accuracy_score(y_test, ypred)\n",
    "#base decision tree not as good as Logistic Regression, may be worth tuning different parameters, could be overfitted"
   ]
  },
  {
   "cell_type": "code",
   "execution_count": 195,
   "metadata": {},
   "outputs": [
    {
     "data": {
      "text/plain": [
       "1.0"
      ]
     },
     "execution_count": 195,
     "metadata": {},
     "output_type": "execute_result"
    }
   ],
   "source": [
    "ypredtrain = dectree.predict(X_train)\n",
    "accuracy_score(y_train, ypredtrain)\n",
    "#as suspected, heavily overfit with training accuracy of 100% lets mess around with depth"
   ]
  },
  {
   "cell_type": "code",
   "execution_count": 196,
   "metadata": {},
   "outputs": [
    {
     "data": {
      "image/png": "[encoded data removed]",
      "text/plain": [
       "<Figure size 576x396 with 1 Axes>"
      ]
     },
     "metadata": {},
     "output_type": "display_data"
    }
   ],
   "source": [
    "#current tree depth\n",
    "max_depth = dectree.get_depth()\n",
    "#lets try all possible depth until 50 to see what gives us the best accuracy\n",
    "training_errors = []\n",
    "testing_errors = []\n",
    "depth = [i for i in range(1, 51)]\n",
    "for i in range(1, 51):\n",
    "    tree = DecisionTreeClassifier(max_depth=i).fit(X_train, y_train)\n",
    "    train_pred = tree.predict(X_train)\n",
    "    test_pred = tree.predict(X_test)\n",
    "    training_error = 1 - accuracy_score(y_train, train_pred)\n",
    "    testing_error = 1 - accuracy_score(y_test, test_pred)\n",
    "    training_errors.append(training_error)\n",
    "    testing_errors.append(testing_error)\n",
    "import matplotlib.pyplot as plt\n",
    "\n",
    "plt.title('Training vs Testing Error')\n",
    "plt.plot(depth, training_errors, 'b', label = 'Training Error')\n",
    "plt.plot(depth, testing_errors, 'g', label = 'Testing Error')\n",
    "plt.legend(loc = 'lower right')\n",
    "plt.show()"
   ]
  },
  {
   "cell_type": "code",
   "execution_count": 197,
   "metadata": {},
   "outputs": [
    {
     "name": "stdout",
     "output_type": "stream",
     "text": [
      "8\n"
     ]
    }
   ],
   "source": [
    "#looks like testing error is at its lowest with a much shorter depth lets find it\n",
    "#depth that minimizes error\n",
    "for i in range(1, 51):\n",
    "    if testing_errors[i - 1] == min(testing_errors):\n",
    "        print(i)"
   ]
  },
  {
   "cell_type": "code",
   "execution_count": 203,
   "metadata": {},
   "outputs": [
    {
     "data": {
      "text/plain": [
       "0.8585068293329797"
      ]
     },
     "execution_count": 203,
     "metadata": {},
     "output_type": "execute_result"
    }
   ],
   "source": [
    "#lets check accuracy with tree of depth 8\n",
    "dectree = DecisionTreeClassifier(max_depth=8).fit(X_train, y_train)\n",
    "ypred = dectree.predict(X_test)\n",
    "accuracy_score(y_test, ypred)\n",
    "#now the tree is slightly better than logistic regression"
   ]
  },
  {
   "cell_type": "code",
   "execution_count": 40,
   "metadata": {},
   "outputs": [
    {
     "data": {
      "text/plain": [
       "0.8378199177827874"
      ]
     },
     "execution_count": 40,
     "metadata": {},
     "output_type": "execute_result"
    }
   ],
   "source": [
    "#let us try support vector machines\n",
    "from sklearn.svm import SVC\n",
    "\n",
    "svc = SVC().fit(X_train, y_train)\n",
    "ypred = svc.predict(X_test)\n",
    "accuracy_score(y_test, ypred)\n",
    "\n",
    "#svc is worse right now but lets try some other hyperparameters"
   ]
  },
  {
   "cell_type": "code",
   "execution_count": 41,
   "metadata": {},
   "outputs": [
    {
     "data": {
      "text/plain": [
       "0.8517438005569553"
      ]
     },
     "execution_count": 41,
     "metadata": {},
     "output_type": "execute_result"
    }
   ],
   "source": [
    "#it is a radial kernel by default, lets try linear\n",
    "svc = SVC(kernel=\"linear\").fit(X_train, y_train)\n",
    "ypred = svc.predict(X_test)\n",
    "accuracy_score(y_test, ypred)\n",
    "#performs better with linear, lets also try polynomial"
   ]
  },
  {
   "cell_type": "code",
   "execution_count": 42,
   "metadata": {},
   "outputs": [
    {
     "data": {
      "text/plain": [
       "0.8415329531892322"
      ]
     },
     "execution_count": 42,
     "metadata": {},
     "output_type": "execute_result"
    }
   ],
   "source": [
    "svc = SVC(kernel=\"poly\", degree=2).fit(X_train, y_train)\n",
    "ypred = svc.predict(X_test)\n",
    "accuracy_score(y_test, ypred)\n",
    "#degree 2 slightly worse lets try 3"
   ]
  },
  {
   "cell_type": "code",
   "execution_count": 43,
   "metadata": {},
   "outputs": [
    {
     "data": {
      "text/plain": [
       "0.8402068691155019"
      ]
     },
     "execution_count": 43,
     "metadata": {},
     "output_type": "execute_result"
    }
   ],
   "source": [
    "svc = SVC(kernel=\"poly\", degree=3).fit(X_train, y_train)\n",
    "ypred = svc.predict(X_test)\n",
    "accuracy_score(y_test, ypred)\n",
    "#this is even worse, lets work more with the linear kernel and give it a larger error budget on training data"
   ]
  },
  {
   "cell_type": "code",
   "execution_count": 44,
   "metadata": {},
   "outputs": [
    {
     "data": {
      "text/plain": [
       "0.8542633602970429"
      ]
     },
     "execution_count": 44,
     "metadata": {},
     "output_type": "execute_result"
    }
   ],
   "source": [
    "svc = SVC(kernel=\"linear\", C=10).fit(X_train, y_train)\n",
    "ypred = svc.predict(X_test)\n",
    "accuracy_score(y_test, ypred)\n",
    "#slightly better lets increase error budget further"
   ]
  },
  {
   "cell_type": "code",
   "execution_count": 45,
   "metadata": {},
   "outputs": [
    {
     "data": {
      "text/plain": [
       "0.8541307518896698"
      ]
     },
     "execution_count": 45,
     "metadata": {},
     "output_type": "execute_result"
    }
   ],
   "source": [
    "svc = SVC(kernel=\"linear\", C=100).fit(X_train, y_train)\n",
    "ypred = svc.predict(X_test)\n",
    "accuracy_score(y_test, ypred)\n",
    "#seems that best svm has a linear kernel with error budget 10"
   ]
  },
  {
   "cell_type": "code",
   "execution_count": 46,
   "metadata": {},
   "outputs": [
    {
     "data": {
      "text/plain": [
       "0.8538655350749238"
      ]
     },
     "execution_count": 46,
     "metadata": {},
     "output_type": "execute_result"
    }
   ],
   "source": [
    "#lets try some ensemble models, starting with random forest\n",
    "from sklearn.ensemble import RandomForestClassifier\n",
    "\n",
    "rf = RandomForestClassifier().fit(X_train, y_train)\n",
    "ypred = rf.predict(X_test)\n",
    "accuracy_score(y_test, ypred)\n",
    "#since the decision tree on its own with no tuning was overfit, lets try using a shorter max depth on random forests to\n",
    "#see if it makes the performance better"
   ]
  },
  {
   "cell_type": "code",
   "execution_count": 47,
   "metadata": {},
   "outputs": [
    {
     "name": "stdout",
     "output_type": "stream",
     "text": [
      "21\n"
     ]
    }
   ],
   "source": [
    "#lets try all possible depth until 50 to see what gives us the best accuracy\n",
    "training_errors = []\n",
    "testing_errors = []\n",
    "depth = [i for i in range(1, 51)]\n",
    "for i in range(1, 51):\n",
    "    trees = RandomForestClassifier(max_depth=i).fit(X_train, y_train)\n",
    "    train_pred = trees.predict(X_train)\n",
    "    test_pred = trees.predict(X_test)\n",
    "    training_error = 1 - accuracy_score(y_train, train_pred)\n",
    "    testing_error = 1 - accuracy_score(y_test, test_pred)\n",
    "    training_errors.append(training_error)\n",
    "    testing_errors.append(testing_error)\n",
    "for i in range(1, 51):\n",
    "    if testing_errors[i - 1] == min(testing_errors):\n",
    "        print(i)"
   ]
  },
  {
   "cell_type": "code",
   "execution_count": 51,
   "metadata": {},
   "outputs": [
    {
     "data": {
      "text/plain": [
       "0.8635459488131547"
      ]
     },
     "execution_count": 51,
     "metadata": {},
     "output_type": "execute_result"
    }
   ],
   "source": [
    "#looks like best depth is 18 lets try this new random forest now\n",
    "rf = RandomForestClassifier(max_depth=21).fit(X_train, y_train)\n",
    "ypred = rf.predict(X_test)\n",
    "accuracy_score(y_test, ypred)\n",
    "#best model so far with 86% accuracy"
   ]
  },
  {
   "cell_type": "code",
   "execution_count": 49,
   "metadata": {},
   "outputs": [
    {
     "data": {
      "text/plain": [
       "0.8618220395173054"
      ]
     },
     "execution_count": 49,
     "metadata": {},
     "output_type": "execute_result"
    }
   ],
   "source": [
    "#lets try a boosting classifier as well\n",
    "from sklearn.ensemble import AdaBoostClassifier\n",
    "\n",
    "adaclf = AdaBoostClassifier().fit(X_train, y_train)\n",
    "ypred = adaclf.predict(X_test)\n",
    "accuracy_score(y_test, ypred)\n",
    "#not as good as random forest so far but pretty close, lets try increasing number of estimatorsd in ensemble"
   ]
  },
  {
   "cell_type": "code",
   "execution_count": 50,
   "metadata": {},
   "outputs": [
    {
     "data": {
      "text/plain": [
       "0.8722981036997746"
      ]
     },
     "execution_count": 50,
     "metadata": {},
     "output_type": "execute_result"
    }
   ],
   "source": [
    "#default estimators are 50, now there are 500\n",
    "adaclf = AdaBoostClassifier(n_estimators=500).fit(X_train, y_train)\n",
    "ypred = adaclf.predict(X_test)\n",
    "accuracy_score(y_test, ypred)\n",
    "#increasing the number of estimators has improved the model, and its better than random forest"
   ]
  },
  {
   "cell_type": "code",
   "execution_count": 53,
   "metadata": {},
   "outputs": [
    {
     "data": {
      "text/plain": [
       "0.8732263625513857"
      ]
     },
     "execution_count": 53,
     "metadata": {},
     "output_type": "execute_result"
    }
   ],
   "source": [
    "#lets try xgboost, most popular algorithm for structured data on Kaggle\n",
    "from xgboost import XGBClassifier\n",
    "\n",
    "xgb = XGBClassifier().fit(X_train, y_train)\n",
    "ypred = xgb.predict(X_test)\n",
    "accuracy_score(y_test, ypred)"
   ]
  },
  {
   "cell_type": "code",
   "execution_count": 57,
   "metadata": {},
   "outputs": [
    {
     "data": {
      "text/plain": [
       "0.9045577118606605"
      ]
     },
     "execution_count": 57,
     "metadata": {},
     "output_type": "execute_result"
    }
   ],
   "source": [
    "#lets try the algorithm with a linear booster instead, as the model had good results with linear models\n",
    "xgb = XGBClassifier().fit(X_train, y_train)\n",
    "ypred = xgb.predict(X_train)\n",
    "accuracy_score(y_train, ypred)\n",
    "#it is slightly overfitted, lets try changing some parameters"
   ]
  },
  {
   "cell_type": "code",
   "execution_count": 200,
   "metadata": {},
   "outputs": [
    {
     "data": {
      "text/plain": [
       "0.8762763559209654"
      ]
     },
     "execution_count": 200,
     "metadata": {},
     "output_type": "execute_result"
    }
   ],
   "source": [
    "xgb = XGBClassifier(max_depth=4, tree_method='hist', eta=0.25).fit(X_train, y_train)\n",
    "ypred = xgb.predict(X_test)\n",
    "accuracy_score(y_test, ypred)\n",
    "#best model so far"
   ]
  },
  {
   "cell_type": "code",
   "execution_count": 202,
   "metadata": {},
   "outputs": [
    {
     "data": {
      "image/png": "[encoded data removed]",
      "text/plain": [
       "<Figure size 576x396 with 1 Axes>"
      ]
     },
     "metadata": {},
     "output_type": "display_data"
    },
    {
     "data": {
      "text/plain": [
       "<matplotlib.axes._subplots.AxesSubplot at 0x7fdb38084240>"
      ]
     },
     "execution_count": 202,
     "metadata": {},
     "output_type": "execute_result"
    }
   ],
   "source": [
    "visualizer = ROCAUC(xgb, classes=[\"<=50K\", \">50K\"])\n",
    "\n",
    "visualizer.fit(X_train, y_train)        \n",
    "visualizer.score(X_test, y_test)        \n",
    "visualizer.show() \n",
    "#aisde from an increase in accuracy, compared to Logistic regression, XGBoost is better at class separation, \n",
    "#as tree based methods are better for imbalanced datasets"
   ]
  },
  {
   "cell_type": "code",
   "execution_count": 136,
   "metadata": {},
   "outputs": [],
   "source": [
    "#now that we have an idea of what models work well, lets do some feature elimination to see if the model improves\n",
    "#will try this for XGboost and Logistic Regression\n",
    "#since logistic regression is just a linear relationship with a sigmoid, we can analyze pearson correlation, to\n",
    "#eliminate irrelevant features\n",
    "categorical_salary = features.copy()\n",
    "categorical_salary[\"income\"] = target\n",
    "corr_df = pd.DataFrame(categorical_salary.corr()['income'][:])\n",
    "corr_df = corr_df.sort_values(by='income', ascending=False)\n",
    "#lets use top 10 positive and negative correlated features\n",
    "top10pos = corr_df.iloc[:31, :]\n",
    "top10neg = corr_df.iloc[95:, :]"
   ]
  },
  {
   "cell_type": "code",
   "execution_count": 137,
   "metadata": {},
   "outputs": [],
   "source": [
    "#lets use all features with an absolute value correlation of 0.01 or higher\n",
    "poscor = corr_df[corr_df[\"income\"] >= 0.01]\n",
    "negcor = corr_df[corr_df[\"income\"] <= -0.01]"
   ]
  },
  {
   "cell_type": "code",
   "execution_count": 138,
   "metadata": {},
   "outputs": [
    {
     "data": {
      "text/html": [
       "<div>\n",
       "<style scoped>\n",
       "    .dataframe tbody tr th:only-of-type {\n",
       "        vertical-align: middle;\n",
       "    }\n",
       "\n",
       "    .dataframe tbody tr th {\n",
       "        vertical-align: top;\n",
       "    }\n",
       "\n",
       "    .dataframe thead th {\n",
       "        text-align: right;\n",
       "    }\n",
       "</style>\n",
       "<table border=\"1\" class=\"dataframe\">\n",
       "  <thead>\n",
       "    <tr style=\"text-align: right;\">\n",
       "      <th></th>\n",
       "      <th>income</th>\n",
       "    </tr>\n",
       "  </thead>\n",
       "  <tbody>\n",
       "    <tr>\n",
       "      <th>income</th>\n",
       "      <td>1.000000</td>\n",
       "    </tr>\n",
       "    <tr>\n",
       "      <th>marital_Married-civ-spouse</th>\n",
       "      <td>0.445418</td>\n",
       "    </tr>\n",
       "    <tr>\n",
       "      <th>relationship_Husband</th>\n",
       "      <td>0.401236</td>\n",
       "    </tr>\n",
       "    <tr>\n",
       "      <th>education_num</th>\n",
       "      <td>0.335286</td>\n",
       "    </tr>\n",
       "    <tr>\n",
       "      <th>age</th>\n",
       "      <td>0.241998</td>\n",
       "    </tr>\n",
       "    <tr>\n",
       "      <th>hr_per_week</th>\n",
       "      <td>0.229480</td>\n",
       "    </tr>\n",
       "    <tr>\n",
       "      <th>capital_gain</th>\n",
       "      <td>0.221196</td>\n",
       "    </tr>\n",
       "    <tr>\n",
       "      <th>sex_Male</th>\n",
       "      <td>0.216699</td>\n",
       "    </tr>\n",
       "    <tr>\n",
       "      <th>occupation_Exec-managerial</th>\n",
       "      <td>0.213442</td>\n",
       "    </tr>\n",
       "    <tr>\n",
       "      <th>occupation_Prof-specialty</th>\n",
       "      <td>0.181458</td>\n",
       "    </tr>\n",
       "    <tr>\n",
       "      <th>education_Bachelors</th>\n",
       "      <td>0.178847</td>\n",
       "    </tr>\n",
       "    <tr>\n",
       "      <th>education_Masters</th>\n",
       "      <td>0.174126</td>\n",
       "    </tr>\n",
       "    <tr>\n",
       "      <th>education_Prof-school</th>\n",
       "      <td>0.156472</td>\n",
       "    </tr>\n",
       "    <tr>\n",
       "      <th>capital_loss</th>\n",
       "      <td>0.150053</td>\n",
       "    </tr>\n",
       "    <tr>\n",
       "      <th>employer_Self-emp-inc</th>\n",
       "      <td>0.137646</td>\n",
       "    </tr>\n",
       "    <tr>\n",
       "      <th>education_Doctorate</th>\n",
       "      <td>0.129162</td>\n",
       "    </tr>\n",
       "    <tr>\n",
       "      <th>relationship_Wife</th>\n",
       "      <td>0.125126</td>\n",
       "    </tr>\n",
       "    <tr>\n",
       "      <th>race_White</th>\n",
       "      <td>0.084735</td>\n",
       "    </tr>\n",
       "    <tr>\n",
       "      <th>employer_Federal-gov</th>\n",
       "      <td>0.057394</td>\n",
       "    </tr>\n",
       "    <tr>\n",
       "      <th>country_United-States</th>\n",
       "      <td>0.040204</td>\n",
       "    </tr>\n",
       "    <tr>\n",
       "      <th>employer_Local-gov</th>\n",
       "      <td>0.028673</td>\n",
       "    </tr>\n",
       "    <tr>\n",
       "      <th>occupation_Protective-serv</th>\n",
       "      <td>0.026360</td>\n",
       "    </tr>\n",
       "    <tr>\n",
       "      <th>employer_Self-emp-not-inc</th>\n",
       "      <td>0.025575</td>\n",
       "    </tr>\n",
       "    <tr>\n",
       "      <th>occupation_Tech-support</th>\n",
       "      <td>0.022829</td>\n",
       "    </tr>\n",
       "    <tr>\n",
       "      <th>country_India</th>\n",
       "      <td>0.020152</td>\n",
       "    </tr>\n",
       "    <tr>\n",
       "      <th>occupation_Sales</th>\n",
       "      <td>0.018450</td>\n",
       "    </tr>\n",
       "    <tr>\n",
       "      <th>country_Taiwan</th>\n",
       "      <td>0.017571</td>\n",
       "    </tr>\n",
       "    <tr>\n",
       "      <th>country_Iran</th>\n",
       "      <td>0.015515</td>\n",
       "    </tr>\n",
       "    <tr>\n",
       "      <th>country_Japan</th>\n",
       "      <td>0.014427</td>\n",
       "    </tr>\n",
       "    <tr>\n",
       "      <th>country_Germany</th>\n",
       "      <td>0.014317</td>\n",
       "    </tr>\n",
       "    <tr>\n",
       "      <th>marital_Married-AF-spouse</th>\n",
       "      <td>0.013874</td>\n",
       "    </tr>\n",
       "    <tr>\n",
       "      <th>country_France</th>\n",
       "      <td>0.013535</td>\n",
       "    </tr>\n",
       "    <tr>\n",
       "      <th>country_Philippines</th>\n",
       "      <td>0.012863</td>\n",
       "    </tr>\n",
       "    <tr>\n",
       "      <th>country_England</th>\n",
       "      <td>0.012356</td>\n",
       "    </tr>\n",
       "    <tr>\n",
       "      <th>country_Canada</th>\n",
       "      <td>0.012078</td>\n",
       "    </tr>\n",
       "    <tr>\n",
       "      <th>country_Italy</th>\n",
       "      <td>0.011435</td>\n",
       "    </tr>\n",
       "    <tr>\n",
       "      <th>race_Asian-Pac-Islander</th>\n",
       "      <td>0.011394</td>\n",
       "    </tr>\n",
       "  </tbody>\n",
       "</table>\n",
       "</div>"
      ],
      "text/plain": [
       "                              income\n",
       "income                      1.000000\n",
       "marital_Married-civ-spouse  0.445418\n",
       "relationship_Husband        0.401236\n",
       "education_num               0.335286\n",
       "age                         0.241998\n",
       "hr_per_week                 0.229480\n",
       "capital_gain                0.221196\n",
       "sex_Male                    0.216699\n",
       "occupation_Exec-managerial  0.213442\n",
       "occupation_Prof-specialty   0.181458\n",
       "education_Bachelors         0.178847\n",
       "education_Masters           0.174126\n",
       "education_Prof-school       0.156472\n",
       "capital_loss                0.150053\n",
       "employer_Self-emp-inc       0.137646\n",
       "education_Doctorate         0.129162\n",
       "relationship_Wife           0.125126\n",
       "race_White                  0.084735\n",
       "employer_Federal-gov        0.057394\n",
       "country_United-States       0.040204\n",
       "employer_Local-gov          0.028673\n",
       "occupation_Protective-serv  0.026360\n",
       "employer_Self-emp-not-inc   0.025575\n",
       "occupation_Tech-support     0.022829\n",
       "country_India               0.020152\n",
       "occupation_Sales            0.018450\n",
       "country_Taiwan              0.017571\n",
       "country_Iran                0.015515\n",
       "country_Japan               0.014427\n",
       "country_Germany             0.014317\n",
       "marital_Married-AF-spouse   0.013874\n",
       "country_France              0.013535\n",
       "country_Philippines         0.012863\n",
       "country_England             0.012356\n",
       "country_Canada              0.012078\n",
       "country_Italy               0.011435\n",
       "race_Asian-Pac-Islander     0.011394"
      ]
     },
     "execution_count": 138,
     "metadata": {},
     "output_type": "execute_result"
    }
   ],
   "source": [
    "poscor"
   ]
  },
  {
   "cell_type": "code",
   "execution_count": 139,
   "metadata": {},
   "outputs": [
    {
     "data": {
      "text/html": [
       "<div>\n",
       "<style scoped>\n",
       "    .dataframe tbody tr th:only-of-type {\n",
       "        vertical-align: middle;\n",
       "    }\n",
       "\n",
       "    .dataframe tbody tr th {\n",
       "        vertical-align: top;\n",
       "    }\n",
       "\n",
       "    .dataframe thead th {\n",
       "        text-align: right;\n",
       "    }\n",
       "</style>\n",
       "<table border=\"1\" class=\"dataframe\">\n",
       "  <thead>\n",
       "    <tr style=\"text-align: right;\">\n",
       "      <th></th>\n",
       "      <th>income</th>\n",
       "    </tr>\n",
       "  </thead>\n",
       "  <tbody>\n",
       "    <tr>\n",
       "      <th>country_Portugal</th>\n",
       "      <td>-0.010199</td>\n",
       "    </tr>\n",
       "    <tr>\n",
       "      <th>employer_Without-pay</th>\n",
       "      <td>-0.012406</td>\n",
       "    </tr>\n",
       "    <tr>\n",
       "      <th>country_Outlying-US(Guam-USVI-etc)</th>\n",
       "      <td>-0.012406</td>\n",
       "    </tr>\n",
       "    <tr>\n",
       "      <th>country_Haiti</th>\n",
       "      <td>-0.013272</td>\n",
       "    </tr>\n",
       "    <tr>\n",
       "      <th>country_Peru</th>\n",
       "      <td>-0.013300</td>\n",
       "    </tr>\n",
       "    <tr>\n",
       "      <th>country_Nicaragua</th>\n",
       "      <td>-0.014414</td>\n",
       "    </tr>\n",
       "    <tr>\n",
       "      <th>country_Jamaica</th>\n",
       "      <td>-0.014780</td>\n",
       "    </tr>\n",
       "    <tr>\n",
       "      <th>country_Vietnam</th>\n",
       "      <td>-0.018215</td>\n",
       "    </tr>\n",
       "    <tr>\n",
       "      <th>country_Puerto-Rico</th>\n",
       "      <td>-0.019337</td>\n",
       "    </tr>\n",
       "    <tr>\n",
       "      <th>country_El-Salvador</th>\n",
       "      <td>-0.021198</td>\n",
       "    </tr>\n",
       "    <tr>\n",
       "      <th>country_Columbia</th>\n",
       "      <td>-0.021267</td>\n",
       "    </tr>\n",
       "    <tr>\n",
       "      <th>country_Guatemala</th>\n",
       "      <td>-0.021300</td>\n",
       "    </tr>\n",
       "    <tr>\n",
       "      <th>occupation_Craft-repair</th>\n",
       "      <td>-0.021445</td>\n",
       "    </tr>\n",
       "    <tr>\n",
       "      <th>education_Preschool</th>\n",
       "      <td>-0.022253</td>\n",
       "    </tr>\n",
       "    <tr>\n",
       "      <th>country_Dominican-Republic</th>\n",
       "      <td>-0.023906</td>\n",
       "    </tr>\n",
       "    <tr>\n",
       "      <th>occupation_Transport-moving</th>\n",
       "      <td>-0.024944</td>\n",
       "    </tr>\n",
       "    <tr>\n",
       "      <th>race_Amer-Indian-Eskimo</th>\n",
       "      <td>-0.029426</td>\n",
       "    </tr>\n",
       "    <tr>\n",
       "      <th>race_Other</th>\n",
       "      <td>-0.032104</td>\n",
       "    </tr>\n",
       "    <tr>\n",
       "      <th>education_1st-4th</th>\n",
       "      <td>-0.034317</td>\n",
       "    </tr>\n",
       "    <tr>\n",
       "      <th>occupation_Priv-house-serv</th>\n",
       "      <td>-0.038618</td>\n",
       "    </tr>\n",
       "    <tr>\n",
       "      <th>marital_Married-spouse-absent</th>\n",
       "      <td>-0.042562</td>\n",
       "    </tr>\n",
       "    <tr>\n",
       "      <th>education_12th</th>\n",
       "      <td>-0.044753</td>\n",
       "    </tr>\n",
       "    <tr>\n",
       "      <th>education_5th-6th</th>\n",
       "      <td>-0.047063</td>\n",
       "    </tr>\n",
       "    <tr>\n",
       "      <th>education_9th</th>\n",
       "      <td>-0.055520</td>\n",
       "    </tr>\n",
       "    <tr>\n",
       "      <th>occupation_Farming-fishing</th>\n",
       "      <td>-0.056483</td>\n",
       "    </tr>\n",
       "    <tr>\n",
       "      <th>education_7th-8th</th>\n",
       "      <td>-0.059032</td>\n",
       "    </tr>\n",
       "    <tr>\n",
       "      <th>marital_Widowed</th>\n",
       "      <td>-0.059097</td>\n",
       "    </tr>\n",
       "    <tr>\n",
       "      <th>education_Some-college</th>\n",
       "      <td>-0.060261</td>\n",
       "    </tr>\n",
       "    <tr>\n",
       "      <th>country_Mexico</th>\n",
       "      <td>-0.064735</td>\n",
       "    </tr>\n",
       "    <tr>\n",
       "      <th>education_10th</th>\n",
       "      <td>-0.068421</td>\n",
       "    </tr>\n",
       "    <tr>\n",
       "      <th>marital_Separated</th>\n",
       "      <td>-0.074056</td>\n",
       "    </tr>\n",
       "    <tr>\n",
       "      <th>occupation_Machine-op-inspct</th>\n",
       "      <td>-0.075912</td>\n",
       "    </tr>\n",
       "    <tr>\n",
       "      <th>relationship_Other-relative</th>\n",
       "      <td>-0.084457</td>\n",
       "    </tr>\n",
       "    <tr>\n",
       "      <th>education_11th</th>\n",
       "      <td>-0.084522</td>\n",
       "    </tr>\n",
       "    <tr>\n",
       "      <th>race_Black</th>\n",
       "      <td>-0.088332</td>\n",
       "    </tr>\n",
       "    <tr>\n",
       "      <th>occupation_Handlers-cleaners</th>\n",
       "      <td>-0.093836</td>\n",
       "    </tr>\n",
       "    <tr>\n",
       "      <th>occupation_Adm-clerical</th>\n",
       "      <td>-0.099849</td>\n",
       "    </tr>\n",
       "    <tr>\n",
       "      <th>employer_Private</th>\n",
       "      <td>-0.117218</td>\n",
       "    </tr>\n",
       "    <tr>\n",
       "      <th>marital_Divorced</th>\n",
       "      <td>-0.132030</td>\n",
       "    </tr>\n",
       "    <tr>\n",
       "      <th>education_HS-grad</th>\n",
       "      <td>-0.136137</td>\n",
       "    </tr>\n",
       "    <tr>\n",
       "      <th>relationship_Unmarried</th>\n",
       "      <td>-0.145799</td>\n",
       "    </tr>\n",
       "    <tr>\n",
       "      <th>occupation_Other-service</th>\n",
       "      <td>-0.165934</td>\n",
       "    </tr>\n",
       "    <tr>\n",
       "      <th>relationship_Not-in-family</th>\n",
       "      <td>-0.193258</td>\n",
       "    </tr>\n",
       "    <tr>\n",
       "      <th>sex_Female</th>\n",
       "      <td>-0.216699</td>\n",
       "    </tr>\n",
       "    <tr>\n",
       "      <th>relationship_Own-child</th>\n",
       "      <td>-0.226186</td>\n",
       "    </tr>\n",
       "    <tr>\n",
       "      <th>marital_Never-married</th>\n",
       "      <td>-0.320053</td>\n",
       "    </tr>\n",
       "  </tbody>\n",
       "</table>\n",
       "</div>"
      ],
      "text/plain": [
       "                                      income\n",
       "country_Portugal                   -0.010199\n",
       "employer_Without-pay               -0.012406\n",
       "country_Outlying-US(Guam-USVI-etc) -0.012406\n",
       "country_Haiti                      -0.013272\n",
       "country_Peru                       -0.013300\n",
       "country_Nicaragua                  -0.014414\n",
       "country_Jamaica                    -0.014780\n",
       "country_Vietnam                    -0.018215\n",
       "country_Puerto-Rico                -0.019337\n",
       "country_El-Salvador                -0.021198\n",
       "country_Columbia                   -0.021267\n",
       "country_Guatemala                  -0.021300\n",
       "occupation_Craft-repair            -0.021445\n",
       "education_Preschool                -0.022253\n",
       "country_Dominican-Republic         -0.023906\n",
       "occupation_Transport-moving        -0.024944\n",
       "race_Amer-Indian-Eskimo            -0.029426\n",
       "race_Other                         -0.032104\n",
       "education_1st-4th                  -0.034317\n",
       "occupation_Priv-house-serv         -0.038618\n",
       "marital_Married-spouse-absent      -0.042562\n",
       "education_12th                     -0.044753\n",
       "education_5th-6th                  -0.047063\n",
       "education_9th                      -0.055520\n",
       "occupation_Farming-fishing         -0.056483\n",
       "education_7th-8th                  -0.059032\n",
       "marital_Widowed                    -0.059097\n",
       "education_Some-college             -0.060261\n",
       "country_Mexico                     -0.064735\n",
       "education_10th                     -0.068421\n",
       "marital_Separated                  -0.074056\n",
       "occupation_Machine-op-inspct       -0.075912\n",
       "relationship_Other-relative        -0.084457\n",
       "education_11th                     -0.084522\n",
       "race_Black                         -0.088332\n",
       "occupation_Handlers-cleaners       -0.093836\n",
       "occupation_Adm-clerical            -0.099849\n",
       "employer_Private                   -0.117218\n",
       "marital_Divorced                   -0.132030\n",
       "education_HS-grad                  -0.136137\n",
       "relationship_Unmarried             -0.145799\n",
       "occupation_Other-service           -0.165934\n",
       "relationship_Not-in-family         -0.193258\n",
       "sex_Female                         -0.216699\n",
       "relationship_Own-child             -0.226186\n",
       "marital_Never-married              -0.320053"
      ]
     },
     "execution_count": 139,
     "metadata": {},
     "output_type": "execute_result"
    }
   ],
   "source": [
    "negcor"
   ]
  },
  {
   "cell_type": "code",
   "execution_count": 140,
   "metadata": {},
   "outputs": [],
   "source": [
    "#we notice that country of employment is a very prevalent feature which makes sense as countries like the US have\n",
    "#a higher rate of pay compared to others, it also seems that occupation at a manegerial level, or having a \n",
    "#speciality is linked to higher pay.\n",
    "#its a given and visible here that amount of education and degree level is positively correlated too, and there\n",
    "#are apparent race issues clearly visible with race white having the highest postive correlation to income\n",
    "#also hrs_per_week is postively correalted, reaffirming that a lot of higher paying jobs have longer hours\n",
    "#it also seems thhat marriage is linked to high pay, probably because a lot of people marry afterv they have \n",
    "#settled down well into their careers, age is similar too"
   ]
  },
  {
   "cell_type": "code",
   "execution_count": 141,
   "metadata": {},
   "outputs": [],
   "source": [
    "new_feature_list = []\n",
    "for i in list(poscor.index)[1:]:\n",
    "    new_feature_list.append(i)\n",
    "for i in list(negcor.index):\n",
    "    new_feature_list.append(i)"
   ]
  },
  {
   "cell_type": "code",
   "execution_count": 142,
   "metadata": {},
   "outputs": [
    {
     "data": {
      "text/html": [
       "<div>\n",
       "<style scoped>\n",
       "    .dataframe tbody tr th:only-of-type {\n",
       "        vertical-align: middle;\n",
       "    }\n",
       "\n",
       "    .dataframe tbody tr th {\n",
       "        vertical-align: top;\n",
       "    }\n",
       "\n",
       "    .dataframe thead th {\n",
       "        text-align: right;\n",
       "    }\n",
       "</style>\n",
       "<table border=\"1\" class=\"dataframe\">\n",
       "  <thead>\n",
       "    <tr style=\"text-align: right;\">\n",
       "      <th></th>\n",
       "      <th>marital_Married-civ-spouse</th>\n",
       "      <th>relationship_Husband</th>\n",
       "      <th>education_num</th>\n",
       "      <th>age</th>\n",
       "      <th>hr_per_week</th>\n",
       "      <th>capital_gain</th>\n",
       "      <th>sex_Male</th>\n",
       "      <th>occupation_Exec-managerial</th>\n",
       "      <th>occupation_Prof-specialty</th>\n",
       "      <th>education_Bachelors</th>\n",
       "      <th>...</th>\n",
       "      <th>occupation_Adm-clerical</th>\n",
       "      <th>employer_Private</th>\n",
       "      <th>marital_Divorced</th>\n",
       "      <th>education_HS-grad</th>\n",
       "      <th>relationship_Unmarried</th>\n",
       "      <th>occupation_Other-service</th>\n",
       "      <th>relationship_Not-in-family</th>\n",
       "      <th>sex_Female</th>\n",
       "      <th>relationship_Own-child</th>\n",
       "      <th>marital_Never-married</th>\n",
       "    </tr>\n",
       "  </thead>\n",
       "  <tbody>\n",
       "    <tr>\n",
       "      <th>0</th>\n",
       "      <td>0</td>\n",
       "      <td>0</td>\n",
       "      <td>13</td>\n",
       "      <td>39</td>\n",
       "      <td>40</td>\n",
       "      <td>2174</td>\n",
       "      <td>1</td>\n",
       "      <td>0</td>\n",
       "      <td>0</td>\n",
       "      <td>1</td>\n",
       "      <td>...</td>\n",
       "      <td>1</td>\n",
       "      <td>0</td>\n",
       "      <td>0</td>\n",
       "      <td>0</td>\n",
       "      <td>0</td>\n",
       "      <td>0</td>\n",
       "      <td>1</td>\n",
       "      <td>0</td>\n",
       "      <td>0</td>\n",
       "      <td>1</td>\n",
       "    </tr>\n",
       "    <tr>\n",
       "      <th>1</th>\n",
       "      <td>1</td>\n",
       "      <td>1</td>\n",
       "      <td>13</td>\n",
       "      <td>50</td>\n",
       "      <td>13</td>\n",
       "      <td>0</td>\n",
       "      <td>1</td>\n",
       "      <td>1</td>\n",
       "      <td>0</td>\n",
       "      <td>1</td>\n",
       "      <td>...</td>\n",
       "      <td>0</td>\n",
       "      <td>0</td>\n",
       "      <td>0</td>\n",
       "      <td>0</td>\n",
       "      <td>0</td>\n",
       "      <td>0</td>\n",
       "      <td>0</td>\n",
       "      <td>0</td>\n",
       "      <td>0</td>\n",
       "      <td>0</td>\n",
       "    </tr>\n",
       "    <tr>\n",
       "      <th>2</th>\n",
       "      <td>0</td>\n",
       "      <td>0</td>\n",
       "      <td>9</td>\n",
       "      <td>38</td>\n",
       "      <td>40</td>\n",
       "      <td>0</td>\n",
       "      <td>1</td>\n",
       "      <td>0</td>\n",
       "      <td>0</td>\n",
       "      <td>0</td>\n",
       "      <td>...</td>\n",
       "      <td>0</td>\n",
       "      <td>1</td>\n",
       "      <td>1</td>\n",
       "      <td>1</td>\n",
       "      <td>0</td>\n",
       "      <td>0</td>\n",
       "      <td>1</td>\n",
       "      <td>0</td>\n",
       "      <td>0</td>\n",
       "      <td>0</td>\n",
       "    </tr>\n",
       "    <tr>\n",
       "      <th>3</th>\n",
       "      <td>1</td>\n",
       "      <td>1</td>\n",
       "      <td>7</td>\n",
       "      <td>53</td>\n",
       "      <td>40</td>\n",
       "      <td>0</td>\n",
       "      <td>1</td>\n",
       "      <td>0</td>\n",
       "      <td>0</td>\n",
       "      <td>0</td>\n",
       "      <td>...</td>\n",
       "      <td>0</td>\n",
       "      <td>1</td>\n",
       "      <td>0</td>\n",
       "      <td>0</td>\n",
       "      <td>0</td>\n",
       "      <td>0</td>\n",
       "      <td>0</td>\n",
       "      <td>0</td>\n",
       "      <td>0</td>\n",
       "      <td>0</td>\n",
       "    </tr>\n",
       "    <tr>\n",
       "      <th>4</th>\n",
       "      <td>1</td>\n",
       "      <td>0</td>\n",
       "      <td>13</td>\n",
       "      <td>28</td>\n",
       "      <td>40</td>\n",
       "      <td>0</td>\n",
       "      <td>0</td>\n",
       "      <td>0</td>\n",
       "      <td>1</td>\n",
       "      <td>1</td>\n",
       "      <td>...</td>\n",
       "      <td>0</td>\n",
       "      <td>1</td>\n",
       "      <td>0</td>\n",
       "      <td>0</td>\n",
       "      <td>0</td>\n",
       "      <td>0</td>\n",
       "      <td>0</td>\n",
       "      <td>1</td>\n",
       "      <td>0</td>\n",
       "      <td>0</td>\n",
       "    </tr>\n",
       "    <tr>\n",
       "      <th>...</th>\n",
       "      <td>...</td>\n",
       "      <td>...</td>\n",
       "      <td>...</td>\n",
       "      <td>...</td>\n",
       "      <td>...</td>\n",
       "      <td>...</td>\n",
       "      <td>...</td>\n",
       "      <td>...</td>\n",
       "      <td>...</td>\n",
       "      <td>...</td>\n",
       "      <td>...</td>\n",
       "      <td>...</td>\n",
       "      <td>...</td>\n",
       "      <td>...</td>\n",
       "      <td>...</td>\n",
       "      <td>...</td>\n",
       "      <td>...</td>\n",
       "      <td>...</td>\n",
       "      <td>...</td>\n",
       "      <td>...</td>\n",
       "      <td>...</td>\n",
       "    </tr>\n",
       "    <tr>\n",
       "      <th>32556</th>\n",
       "      <td>1</td>\n",
       "      <td>0</td>\n",
       "      <td>12</td>\n",
       "      <td>27</td>\n",
       "      <td>38</td>\n",
       "      <td>0</td>\n",
       "      <td>0</td>\n",
       "      <td>0</td>\n",
       "      <td>0</td>\n",
       "      <td>0</td>\n",
       "      <td>...</td>\n",
       "      <td>0</td>\n",
       "      <td>1</td>\n",
       "      <td>0</td>\n",
       "      <td>0</td>\n",
       "      <td>0</td>\n",
       "      <td>0</td>\n",
       "      <td>0</td>\n",
       "      <td>1</td>\n",
       "      <td>0</td>\n",
       "      <td>0</td>\n",
       "    </tr>\n",
       "    <tr>\n",
       "      <th>32557</th>\n",
       "      <td>1</td>\n",
       "      <td>1</td>\n",
       "      <td>9</td>\n",
       "      <td>40</td>\n",
       "      <td>40</td>\n",
       "      <td>0</td>\n",
       "      <td>1</td>\n",
       "      <td>0</td>\n",
       "      <td>0</td>\n",
       "      <td>0</td>\n",
       "      <td>...</td>\n",
       "      <td>0</td>\n",
       "      <td>1</td>\n",
       "      <td>0</td>\n",
       "      <td>1</td>\n",
       "      <td>0</td>\n",
       "      <td>0</td>\n",
       "      <td>0</td>\n",
       "      <td>0</td>\n",
       "      <td>0</td>\n",
       "      <td>0</td>\n",
       "    </tr>\n",
       "    <tr>\n",
       "      <th>32558</th>\n",
       "      <td>0</td>\n",
       "      <td>0</td>\n",
       "      <td>9</td>\n",
       "      <td>58</td>\n",
       "      <td>40</td>\n",
       "      <td>0</td>\n",
       "      <td>0</td>\n",
       "      <td>0</td>\n",
       "      <td>0</td>\n",
       "      <td>0</td>\n",
       "      <td>...</td>\n",
       "      <td>1</td>\n",
       "      <td>1</td>\n",
       "      <td>0</td>\n",
       "      <td>1</td>\n",
       "      <td>1</td>\n",
       "      <td>0</td>\n",
       "      <td>0</td>\n",
       "      <td>1</td>\n",
       "      <td>0</td>\n",
       "      <td>0</td>\n",
       "    </tr>\n",
       "    <tr>\n",
       "      <th>32559</th>\n",
       "      <td>0</td>\n",
       "      <td>0</td>\n",
       "      <td>9</td>\n",
       "      <td>22</td>\n",
       "      <td>20</td>\n",
       "      <td>0</td>\n",
       "      <td>1</td>\n",
       "      <td>0</td>\n",
       "      <td>0</td>\n",
       "      <td>0</td>\n",
       "      <td>...</td>\n",
       "      <td>1</td>\n",
       "      <td>1</td>\n",
       "      <td>0</td>\n",
       "      <td>1</td>\n",
       "      <td>0</td>\n",
       "      <td>0</td>\n",
       "      <td>0</td>\n",
       "      <td>0</td>\n",
       "      <td>1</td>\n",
       "      <td>1</td>\n",
       "    </tr>\n",
       "    <tr>\n",
       "      <th>32560</th>\n",
       "      <td>1</td>\n",
       "      <td>0</td>\n",
       "      <td>9</td>\n",
       "      <td>52</td>\n",
       "      <td>40</td>\n",
       "      <td>15024</td>\n",
       "      <td>0</td>\n",
       "      <td>1</td>\n",
       "      <td>0</td>\n",
       "      <td>0</td>\n",
       "      <td>...</td>\n",
       "      <td>0</td>\n",
       "      <td>0</td>\n",
       "      <td>0</td>\n",
       "      <td>1</td>\n",
       "      <td>0</td>\n",
       "      <td>0</td>\n",
       "      <td>0</td>\n",
       "      <td>1</td>\n",
       "      <td>0</td>\n",
       "      <td>0</td>\n",
       "    </tr>\n",
       "  </tbody>\n",
       "</table>\n",
       "<p>30162 rows × 82 columns</p>\n",
       "</div>"
      ],
      "text/plain": [
       "       marital_Married-civ-spouse  relationship_Husband  education_num  age  \\\n",
       "0                               0                     0             13   39   \n",
       "1                               1                     1             13   50   \n",
       "2                               0                     0              9   38   \n",
       "3                               1                     1              7   53   \n",
       "4                               1                     0             13   28   \n",
       "...                           ...                   ...            ...  ...   \n",
       "32556                           1                     0             12   27   \n",
       "32557                           1                     1              9   40   \n",
       "32558                           0                     0              9   58   \n",
       "32559                           0                     0              9   22   \n",
       "32560                           1                     0              9   52   \n",
       "\n",
       "       hr_per_week  capital_gain  sex_Male  occupation_Exec-managerial  \\\n",
       "0               40          2174         1                           0   \n",
       "1               13             0         1                           1   \n",
       "2               40             0         1                           0   \n",
       "3               40             0         1                           0   \n",
       "4               40             0         0                           0   \n",
       "...            ...           ...       ...                         ...   \n",
       "32556           38             0         0                           0   \n",
       "32557           40             0         1                           0   \n",
       "32558           40             0         0                           0   \n",
       "32559           20             0         1                           0   \n",
       "32560           40         15024         0                           1   \n",
       "\n",
       "       occupation_Prof-specialty  education_Bachelors  ...  \\\n",
       "0                              0                    1  ...   \n",
       "1                              0                    1  ...   \n",
       "2                              0                    0  ...   \n",
       "3                              0                    0  ...   \n",
       "4                              1                    1  ...   \n",
       "...                          ...                  ...  ...   \n",
       "32556                          0                    0  ...   \n",
       "32557                          0                    0  ...   \n",
       "32558                          0                    0  ...   \n",
       "32559                          0                    0  ...   \n",
       "32560                          0                    0  ...   \n",
       "\n",
       "       occupation_Adm-clerical  employer_Private  marital_Divorced  \\\n",
       "0                            1                 0                 0   \n",
       "1                            0                 0                 0   \n",
       "2                            0                 1                 1   \n",
       "3                            0                 1                 0   \n",
       "4                            0                 1                 0   \n",
       "...                        ...               ...               ...   \n",
       "32556                        0                 1                 0   \n",
       "32557                        0                 1                 0   \n",
       "32558                        1                 1                 0   \n",
       "32559                        1                 1                 0   \n",
       "32560                        0                 0                 0   \n",
       "\n",
       "       education_HS-grad  relationship_Unmarried  occupation_Other-service  \\\n",
       "0                      0                       0                         0   \n",
       "1                      0                       0                         0   \n",
       "2                      1                       0                         0   \n",
       "3                      0                       0                         0   \n",
       "4                      0                       0                         0   \n",
       "...                  ...                     ...                       ...   \n",
       "32556                  0                       0                         0   \n",
       "32557                  1                       0                         0   \n",
       "32558                  1                       1                         0   \n",
       "32559                  1                       0                         0   \n",
       "32560                  1                       0                         0   \n",
       "\n",
       "       relationship_Not-in-family  sex_Female  relationship_Own-child  \\\n",
       "0                               1           0                       0   \n",
       "1                               0           0                       0   \n",
       "2                               1           0                       0   \n",
       "3                               0           0                       0   \n",
       "4                               0           1                       0   \n",
       "...                           ...         ...                     ...   \n",
       "32556                           0           1                       0   \n",
       "32557                           0           0                       0   \n",
       "32558                           0           1                       0   \n",
       "32559                           0           0                       1   \n",
       "32560                           0           1                       0   \n",
       "\n",
       "       marital_Never-married  \n",
       "0                          1  \n",
       "1                          0  \n",
       "2                          0  \n",
       "3                          0  \n",
       "4                          0  \n",
       "...                      ...  \n",
       "32556                      0  \n",
       "32557                      0  \n",
       "32558                      0  \n",
       "32559                      1  \n",
       "32560                      0  \n",
       "\n",
       "[30162 rows x 82 columns]"
      ]
     },
     "execution_count": 142,
     "metadata": {},
     "output_type": "execute_result"
    }
   ],
   "source": [
    "new_df = pd.DataFrame()\n",
    "for c in new_feature_list:\n",
    "    new_df[c] = features[c]\n",
    "new_df"
   ]
  },
  {
   "cell_type": "code",
   "execution_count": 143,
   "metadata": {},
   "outputs": [],
   "source": [
    "#lets resplit this data, and preprocess it\n",
    "X_trainc, X_testc, y_trainc, y_testc = train_test_split(new_df, target, test_size=0.25, random_state=42)\n",
    "trainscaler = MinMaxScaler().fit(X_trainc)\n",
    "X_trainc = trainscaler.transform(X_trainc)\n",
    "testscaler = MinMaxScaler().fit(X_testc)\n",
    "X_testc = trainscaler.transform(X_testc)"
   ]
  },
  {
   "cell_type": "code",
   "execution_count": 207,
   "metadata": {},
   "outputs": [
    {
     "data": {
      "text/plain": [
       "0.855191619148654"
      ]
     },
     "execution_count": 207,
     "metadata": {},
     "output_type": "execute_result"
    }
   ],
   "source": [
    "#logistic regression\n",
    "logreg = LogisticRegression(penalty=\"l1\", solver=\"liblinear\").fit(X_trainc, y_trainc)\n",
    "ypred = logreg.predict(X_testc)\n",
    "accuracy_score(y_testc, ypred)\n",
    "#looks like logistic regression isnt better with these selected features, lets try the polynomial regression from before\n",
    "#instead"
   ]
  },
  {
   "cell_type": "code",
   "execution_count": 208,
   "metadata": {},
   "outputs": [
    {
     "data": {
      "image/png": "[encoded data removed]",
      "text/plain": [
       "<Figure size 576x396 with 1 Axes>"
      ]
     },
     "metadata": {},
     "output_type": "display_data"
    },
    {
     "data": {
      "text/plain": [
       "<matplotlib.axes._subplots.AxesSubplot at 0x7fdb38876a20>"
      ]
     },
     "execution_count": 208,
     "metadata": {},
     "output_type": "execute_result"
    }
   ],
   "source": [
    "visualizer = ROCAUC(logreg, classes=[\"<=50K\", \">50K\"])\n",
    "\n",
    "visualizer.fit(X_trainc, y_trainc)        \n",
    "visualizer.score(X_testc, y_testc)        \n",
    "visualizer.show() \n",
    "#AUC hasnt changed from initial logistic regression AUC, might as well use all the features"
   ]
  },
  {
   "cell_type": "code",
   "execution_count": 206,
   "metadata": {},
   "outputs": [
    {
     "data": {
      "text/plain": [
       "0.8541307518896698"
      ]
     },
     "execution_count": 206,
     "metadata": {},
     "output_type": "execute_result"
    }
   ],
   "source": [
    "poly = PolynomialFeatures(2)\n",
    "degree2 = poly.fit_transform(X_trainc)\n",
    "\n",
    "degree2_reg = Ridge().fit(degree2, y_trainc)\n",
    "ypred = degree2_reg.predict(PolynomialFeatures(2).fit_transform(X_testc))\n",
    "ypred_class =  [i.round() for i in ypred]\n",
    "accuracy_score(y_testc, ypred_class)\n",
    "#in this case logistic regression is better, maybe an algorithmic approach to eature selection could be better"
   ]
  },
  {
   "cell_type": "code",
   "execution_count": 209,
   "metadata": {},
   "outputs": [],
   "source": [
    "#tires all possible combinations of features on our best XGboost model\n",
    "from sklearn.feature_selection import RFE\n",
    "from sklearn.tree import DecisionTreeRegressor\n",
    "#using 50 top features\n",
    "def RFE_feature_selection(n):\n",
    "    select = RFE(DecisionTreeRegressor(random_state = 3000), n_features_to_select = n)\n",
    "    \n",
    "    #fit the RFE selector to the training data\n",
    "    select.fit(X_train, y_train)\n",
    "\n",
    "    #transform training and testing sets so only the selected features are retained\n",
    "    X_train_selected = select.transform(X_train)\n",
    "    X_test_selected = select.transform(X_test)\n",
    "\n",
    "    model = xgclf = XGBClassifier(max_depth=4, tree_method='hist', eta=0.25).fit(X=X_train_selected, y=y_train)\n",
    "    \n",
    "    accuracy = model.score(X_test_selected, y_test)\n",
    "    \n",
    "    #print(\"Selected features after RFE:\")\n",
    "    #for i in range(0, len(select.get_support())):\n",
    "     #   if select.get_support()[i] == True:\n",
    "      #      print(\"\\t\" + str(features.columns[i]))\n",
    "    \n",
    "    #print(\"Logistic Regression performance with selected features:\")\n",
    "    #print(accuracy)\n",
    "    return accuracy, xgclf\n",
    "\n",
    "#lets try up to 105 features and see what selection gives us the best performance\n",
    "accuracies = []\n",
    "models = []\n",
    "for i in range(1, 105):\n",
    "    accuracy, model = RFE_feature_selection(i)\n",
    "    accuracies.append(accuracy)\n",
    "    models.append(model)"
   ]
  },
  {
   "cell_type": "code",
   "execution_count": 210,
   "metadata": {},
   "outputs": [
    {
     "data": {
      "text/plain": [
       "0.8765415727357114"
      ]
     },
     "execution_count": 210,
     "metadata": {},
     "output_type": "execute_result"
    }
   ],
   "source": [
    "#lets find the features in the amx accuracy xgboost\n",
    "np.array(accuracies).max()"
   ]
  },
  {
   "cell_type": "code",
   "execution_count": 211,
   "metadata": {},
   "outputs": [
    {
     "name": "stdout",
     "output_type": "stream",
     "text": [
      "93\n",
      "94\n",
      "95\n"
     ]
    }
   ],
   "source": [
    "for i in range(1, 105):\n",
    "    if accuracies[i - 1] == max(accuracies):\n",
    "        print(i)"
   ]
  },
  {
   "cell_type": "code",
   "execution_count": 220,
   "metadata": {},
   "outputs": [
    {
     "name": "stdout",
     "output_type": "stream",
     "text": [
      "Selected features after RFE:\n",
      "\tage\n",
      "\tfnlwgt\n",
      "\teducation_num\n",
      "\tcapital_gain\n",
      "\tcapital_loss\n",
      "\thr_per_week\n",
      "\temployer_Federal-gov\n",
      "\temployer_Local-gov\n",
      "\temployer_Private\n",
      "\temployer_Self-emp-inc\n",
      "\temployer_Self-emp-not-inc\n",
      "\temployer_State-gov\n",
      "\teducation_10th\n",
      "\teducation_11th\n",
      "\teducation_12th\n",
      "\teducation_5th-6th\n",
      "\teducation_7th-8th\n",
      "\teducation_9th\n",
      "\teducation_Assoc-acdm\n",
      "\teducation_Assoc-voc\n",
      "\teducation_Bachelors\n",
      "\teducation_Doctorate\n",
      "\teducation_HS-grad\n",
      "\teducation_Masters\n",
      "\teducation_Preschool\n",
      "\teducation_Prof-school\n",
      "\teducation_Some-college\n",
      "\tmarital_Divorced\n",
      "\tmarital_Married-AF-spouse\n",
      "\tmarital_Married-civ-spouse\n",
      "\tmarital_Married-spouse-absent\n",
      "\tmarital_Never-married\n",
      "\tmarital_Separated\n",
      "\tmarital_Widowed\n",
      "\toccupation_Adm-clerical\n",
      "\toccupation_Craft-repair\n",
      "\toccupation_Exec-managerial\n",
      "\toccupation_Farming-fishing\n",
      "\toccupation_Handlers-cleaners\n",
      "\toccupation_Machine-op-inspct\n",
      "\toccupation_Other-service\n",
      "\toccupation_Priv-house-serv\n",
      "\toccupation_Prof-specialty\n",
      "\toccupation_Protective-serv\n",
      "\toccupation_Sales\n",
      "\toccupation_Tech-support\n",
      "\toccupation_Transport-moving\n",
      "\trelationship_Husband\n",
      "\trelationship_Not-in-family\n",
      "\trelationship_Other-relative\n",
      "\trelationship_Own-child\n",
      "\trelationship_Unmarried\n",
      "\trelationship_Wife\n",
      "\trace_Amer-Indian-Eskimo\n",
      "\trace_Asian-Pac-Islander\n",
      "\trace_Black\n",
      "\trace_Other\n",
      "\trace_White\n",
      "\tsex_Female\n",
      "\tsex_Male\n",
      "\tcountry_Cambodia\n",
      "\tcountry_Canada\n",
      "\tcountry_China\n",
      "\tcountry_Cuba\n",
      "\tcountry_Dominican-Republic\n",
      "\tcountry_Ecuador\n",
      "\tcountry_England\n",
      "\tcountry_France\n",
      "\tcountry_Germany\n",
      "\tcountry_Greece\n",
      "\tcountry_Guatemala\n",
      "\tcountry_Haiti\n",
      "\tcountry_Holand-Netherlands\n",
      "\tcountry_Hong\n",
      "\tcountry_Hungary\n",
      "\tcountry_India\n",
      "\tcountry_Iran\n",
      "\tcountry_Ireland\n",
      "\tcountry_Italy\n",
      "\tcountry_Jamaica\n",
      "\tcountry_Japan\n",
      "\tcountry_Laos\n",
      "\tcountry_Mexico\n",
      "\tcountry_Philippines\n",
      "\tcountry_Poland\n",
      "\tcountry_Portugal\n",
      "\tcountry_Puerto-Rico\n",
      "\tcountry_South\n",
      "\tcountry_Taiwan\n",
      "\tcountry_Thailand\n",
      "\tcountry_United-States\n",
      "\tcountry_Vietnam\n",
      "\tcountry_Yugoslavia\n"
     ]
    }
   ],
   "source": [
    "#looks like highest accuracy is with 93 features, lets find these features\n",
    "def RFE_feature_selection():\n",
    "    select = RFE(DecisionTreeRegressor(random_state = 3000), n_features_to_select = 93)\n",
    "    \n",
    "    #fit the RFE selector to the training data\n",
    "    select.fit(X_train, y_train)\n",
    "\n",
    "    #transform training and testing sets so only the selected features are retained\n",
    "    X_train_selected = select.transform(X_train)\n",
    "    X_test_selected = select.transform(X_test)\n",
    "\n",
    "    model = adaclf = XGBClassifier(max_depth=4, tree_method='hist', eta=0.25).fit(X=X_train_selected, y=y_train)\n",
    "    \n",
    "    accuracy = model.score(X_test_selected, y_test)\n",
    "    \n",
    "    print(\"Selected features after RFE:\")\n",
    "    for i in range(0, len(select.get_support())):\n",
    "        if select.get_support()[i] == True:\n",
    "            print(\"\\t\" + str(features.columns[i]))\n",
    "    \n",
    "    return accuracy, X_train_selected, X_test_selected\n",
    "a, xtr, xtst = RFE_feature_selection()"
   ]
  },
  {
   "cell_type": "code",
   "execution_count": null,
   "metadata": {},
   "outputs": [],
   "source": [
    "#based on this algorithmic eliminaton, the most important feature seems to be age, fnlwgt (unsure what this is), \n",
    "#capitak gain/loss (maybe indicating profitbaility of the eomployer in relationship with higher pay, makes sense as \n",
    "#a lot of companies withh high stock market values like Apple tend to pay more), hours per week, type of employer\n",
    "#(which makes sense as the private sector will usually pay more than the government), followed by education level and \n",
    "#years (indicating income relationship with skillset, and specialization), followed by marital status (maybe data \n",
    "#consists of household income, even if it doesn't, it could indicate the tendency of marrying after making some progress\n",
    "#with a person's career), followed by occupation (maybe if data was more specific with type of occupation, there\n",
    "#would be a stronger relationship), followed by race and sex (indicating racial and gender based discrimination in jobs)\n",
    "#and lastly has countries, which makes sense as first world countries have significantly higher salaries and GDP\n",
    "#per capita\n",
    "#Also, should consider that teh algorithm performed best with all these features, so all these features are very important"
   ]
  }
 ],
 "metadata": {
  "kernelspec": {
   "display_name": "Python 3",
   "language": "python",
   "name": "python3"
  },
  "language_info": {
   "codemirror_mode": {
    "name": "ipython",
    "version": 3
   },
   "file_extension": ".py",
   "mimetype": "text/x-python",
   "name": "python",
   "nbconvert_exporter": "python",
   "pygments_lexer": "ipython3",
   "version": "3.6.9"
  }
 },
 "nbformat": 4,
 "nbformat_minor": 2
}
